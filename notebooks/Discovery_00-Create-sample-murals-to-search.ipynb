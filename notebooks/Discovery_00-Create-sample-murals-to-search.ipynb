{
 "cells": [
  {
   "cell_type": "markdown",
   "metadata": {
    "collapsed": true
   },
   "source": [
    "# Create murals from sample .json\n",
    "\n",
    "To experiment with searching in murals, you first need some murals to search.\n",
    "\n",
    "This notebook demonstrates how to use the MURAL API to create murals containing widgets defined in a .json file.\n",
    "\n",
    "A sample .json file containing the contents of four sample murals is available here: [Sample .json file](https://github.com/spackows/MURAL-API-Samples/blob/main/murals/Discovery_sample-murals.json)\n",
    "\n",
    "The following image shows what the sample murals look like:\n",
    "\n",
    "<img src=\"https://github.com/spackows/MURAL-API-Samples/blob/main/images/Discovery_sample-murals-to-search-horizontal.png?raw=true\" width=\"95%\" title=\"Sample murals\" />"
   ]
  },
  {
   "cell_type": "markdown",
   "metadata": {},
   "source": [
    "# Table of contents\n",
    "\n",
    "<ol style=\"list-style: none; margin: 20px 0px 0px 0px; padding: 0px\">\n",
    "<li style=\"margin: 0px 0px 3px 0px;\"><b>Step 1:</b> Read sample .json file</li>\n",
    "<li style=\"margin: 0px 0px 3px 0px;\"><b>Step 2:</b> Set your MURAL workspace ID</li>\n",
    "<li style=\"margin: 0px 0px 3px 0px;\"><b>Step 3:</b> Set your MURAL Oauth token</li>\n",
    "<li style=\"margin: 0px 0px 3px 0px;\"><b>Step 4:</b> Create sample rooms</li>\n",
    "<li style=\"margin: 0px 0px 3px 0px;\"><b>Step 5:</b> Create sample folders</li>\n",
    "<li style=\"margin: 0px 0px 3px 0px;\"><b>Step 6:</b> Create sample murals</li>\n",
    "<li style=\"margin: 0px 0px 3px 0px;\"><b>Step 7:</b> Populate murals with sample widgets</li>\n",
    "</ol>"
   ]
  },
  {
   "cell_type": "markdown",
   "metadata": {},
   "source": [
    "## Step 1: Read sample .json file"
   ]
  },
  {
   "cell_type": "code",
   "execution_count": null,
   "metadata": {},
   "outputs": [],
   "source": [
    "import urllib\n",
    "import json\n",
    "\n",
    "url = \"https://github.com/spackows/MURAL-API-Samples/raw/main/murals/Discovery_sample-murals.json\"\n",
    "response = urllib.request.urlopen( url )\n",
    "encoding = response.info().get_content_charset( \"utf8\" )\n",
    "g_murals_arr = json.loads( response.read().decode( encoding ) )"
   ]
  },
  {
   "cell_type": "code",
   "execution_count": null,
   "metadata": {},
   "outputs": [],
   "source": [
    "print( json.dumps( g_murals_arr, indent = 3 ) )"
   ]
  },
  {
   "cell_type": "code",
   "execution_count": null,
   "metadata": {},
   "outputs": [],
   "source": []
  },
  {
   "cell_type": "markdown",
   "metadata": {},
   "source": [
    "## Step 2: Set your MURAL workspace ID\n",
    "\n",
    "We need the ID of the workspace in which to create murals for searching.\n",
    "\n",
    "You can get the workspace ID from your browser URL.\n",
    "\n",
    "When you are in the Home page of your workspace, the URL in your browser looks something like this:\n",
    "```\n",
    "https://app.mural.co/t/<workspace_id>/home\n",
    "```\n",
    "\n",
    "What you need to pass to the MURAL API is just after the `/t/` and before the `/home`.\n",
    "\n",
    "For example, if you have a workspace with this url:\n",
    "```\n",
    "https://app.mural.co/t/teamideas1234/home\n",
    "```\n",
    "\n",
    "Then, the workspace ID is: teamideas1234"
   ]
  },
  {
   "cell_type": "code",
   "execution_count": null,
   "metadata": {},
   "outputs": [],
   "source": [
    "g_workspace_id = \"\""
   ]
  },
  {
   "cell_type": "code",
   "execution_count": null,
   "metadata": {},
   "outputs": [],
   "source": []
  },
  {
   "cell_type": "markdown",
   "metadata": {},
   "source": [
    "## Step 3: Set your MURAL Oauth token\n",
    "\n",
    "You must get an OAuth token by using OAuth 2.0.  For example, see: [Setting up OAuth 2.0 in Postman](https://developers.mural.co/public/docs/testing-with-postman#setting-up-oauth-20-in-postman)"
   ]
  },
  {
   "cell_type": "code",
   "execution_count": null,
   "metadata": {},
   "outputs": [],
   "source": [
    "g_auth_token = \"\""
   ]
  },
  {
   "cell_type": "code",
   "execution_count": null,
   "metadata": {},
   "outputs": [],
   "source": []
  },
  {
   "cell_type": "markdown",
   "metadata": {},
   "source": [
    "## Step 4: Create sample rooms"
   ]
  },
  {
   "cell_type": "code",
   "execution_count": null,
   "metadata": {},
   "outputs": [],
   "source": [
    "import requests\n",
    "import json\n",
    "import re\n",
    "\n",
    "def createRoom( auth_token, workspace_id, room_name ):\n",
    "    # https://developers.mural.co/public/reference/createroom\n",
    "    url = \"https://app.mural.co/api/public/v1/rooms\"\n",
    "    headers = { \"Accept\"        : \"application/json\", \n",
    "                \"Content-Type\"  : \"application/json\", \n",
    "                \"Authorization\" : \"Bearer \" + auth_token }\n",
    "    parms = { \"workspaceId\" : workspace_id, \n",
    "              \"name\"        : room_name,\n",
    "              \"type\"        : \"open\" }\n",
    "    response = requests.request( \"POST\", url, headers = headers, json = parms )\n",
    "    response_json = json.loads( response.text )\n",
    "    msg = \"\"\n",
    "    if \"code\" in response_json:\n",
    "        msg += response_json[\"code\"] + \" \"\n",
    "    if \"message\" in response_json:\n",
    "        msg += response_json[\"message\"]\n",
    "    if msg != \"\":\n",
    "        print( msg )\n",
    "        return None\n",
    "    if \"value\" not in response_json:\n",
    "        print( \"No value returned\" )\n",
    "        return None\n",
    "    if \"id\" not in response_json[\"value\"]:\n",
    "        print( \"No id returned\" )\n",
    "        return None\n",
    "    return response_json[\"value\"][\"id\"]"
   ]
  },
  {
   "cell_type": "code",
   "execution_count": null,
   "metadata": {},
   "outputs": [],
   "source": [
    "rooms_created = {}\n",
    "for mural in g_murals_arr:\n",
    "    room_name = mural[\"room\"][\"name\"]\n",
    "    if room_name in rooms_created.keys():\n",
    "        mural[\"room\"][\"id\"] = rooms_created[ room_name ]\n",
    "        continue\n",
    "    room_id = createRoom( g_auth_token, g_workspace_id, room_name )\n",
    "    rooms_created[ room_name ] = room_id\n",
    "    mural[\"room\"][\"id\"] = room_id\n",
    "\n",
    "print( json.dumps( g_murals_arr, indent=3 ) )"
   ]
  },
  {
   "cell_type": "code",
   "execution_count": null,
   "metadata": {},
   "outputs": [],
   "source": []
  },
  {
   "cell_type": "markdown",
   "metadata": {},
   "source": [
    "## Step 5: Create sample folders"
   ]
  },
  {
   "cell_type": "code",
   "execution_count": null,
   "metadata": {},
   "outputs": [],
   "source": [
    "def createFolder( auth_token, room_id, folder_name ):\n",
    "    # https://developers.mural.co/public/reference/createroomfolder\n",
    "    url = \"https://app.mural.co/api/public/v1/rooms/\" + str( room_id ) + \"/folders\"\n",
    "    headers = { \"Accept\"        : \"application/json\", \n",
    "                \"Content-Type\"  : \"application/json\", \n",
    "                \"Authorization\" : \"Bearer \" + auth_token }\n",
    "    parms = { \"name\" : folder_name }\n",
    "    response = requests.request( \"POST\", url, headers = headers, json = parms )\n",
    "    response_json = json.loads( response.text )\n",
    "    msg = \"\"\n",
    "    if \"code\" in response_json:\n",
    "        msg += response_json[\"code\"] + \" \"\n",
    "    if \"message\" in response_json:\n",
    "        msg += response_json[\"message\"]\n",
    "    if msg != \"\":\n",
    "        print( msg )\n",
    "        return None\n",
    "    if \"value\" not in response_json:\n",
    "        print( \"No value returned\" )\n",
    "        return None\n",
    "    if \"id\" not in response_json[\"value\"]:\n",
    "        print( \"No id returned\" )\n",
    "        return None\n",
    "    return response_json[\"value\"][\"id\"]"
   ]
  },
  {
   "cell_type": "code",
   "execution_count": null,
   "metadata": {},
   "outputs": [],
   "source": [
    "folders_created = {}\n",
    "for mural in g_murals_arr:\n",
    "    room_id = mural[\"room\"][\"id\"]\n",
    "    folder_name = mural[\"folder\"][\"name\"]\n",
    "    if \"\" == folder_name:\n",
    "        continue\n",
    "    if folder_name in folders_created.keys():\n",
    "        mural[\"folder\"][\"id\"] = folders_created[ folder_name ]\n",
    "        continue\n",
    "    folder_id = createFolder( g_auth_token, room_id, folder_name )\n",
    "    folders_created[ folder_name ] = folder_id\n",
    "    mural[\"folder\"][\"id\"] = folder_id\n",
    "\n",
    "print( json.dumps( g_murals_arr, indent=3 ) )"
   ]
  },
  {
   "cell_type": "code",
   "execution_count": null,
   "metadata": {},
   "outputs": [],
   "source": []
  },
  {
   "cell_type": "markdown",
   "metadata": {},
   "source": [
    "## Step 6: Create sample murals"
   ]
  },
  {
   "cell_type": "code",
   "execution_count": null,
   "metadata": {},
   "outputs": [],
   "source": [
    "def createMural( auth_token, workspace_id, room_id, folder_id, title ):\n",
    "    # https://developers.mural.co/public/reference/createmural\n",
    "    url = \"https://app.mural.co/api/public/v1/murals\"\n",
    "    headers = { \"Accept\"        : \"application/json\", \n",
    "                \"Content-Type\"  : \"application/json\", \n",
    "                \"Authorization\" : \"Bearer \" + auth_token }\n",
    "    parms = { \"workspaceId\" : workspace_id, \n",
    "              \"roomId\"      : int( room_id ),  # If this is not a number, call fails\n",
    "              \"folderId\"    : folder_id,\n",
    "              \"title\"       : title }\n",
    "    response = requests.request( \"POST\", url, headers = headers, json = parms )\n",
    "    response_json = json.loads( response.text )\n",
    "    msg = \"\"\n",
    "    if \"code\" in response_json:\n",
    "        msg += response_json[\"code\"] + \" \"\n",
    "    if \"message\" in response_json:\n",
    "        msg += response_json[\"message\"]\n",
    "    if msg != \"\":\n",
    "        print( msg )\n",
    "        return None\n",
    "    if \"value\" not in response_json:\n",
    "        print( \"No value returned\" )\n",
    "        return None\n",
    "    if \"id\" not in response_json[\"value\"]:\n",
    "        print( \"No id returned\" )\n",
    "        return None\n",
    "    return response_json[\"value\"][\"id\"]"
   ]
  },
  {
   "cell_type": "code",
   "execution_count": null,
   "metadata": {},
   "outputs": [],
   "source": [
    "for mural in g_murals_arr:\n",
    "    room_id = mural[\"room\"][\"id\"]\n",
    "    folder_id = mural[\"folder\"][\"id\"]\n",
    "    mural_name = mural[\"mural_name\"]\n",
    "    mural_id = createMural( g_auth_token, g_workspace_id, room_id, folder_id, mural_name )\n",
    "    mural[\"id\"] = mural_id\n",
    "\n",
    "print( json.dumps( g_murals_arr, indent=3 ) )"
   ]
  },
  {
   "cell_type": "code",
   "execution_count": null,
   "metadata": {},
   "outputs": [],
   "source": []
  },
  {
   "cell_type": "markdown",
   "metadata": {},
   "source": [
    "## Step 7: Populate murals with sample widgets"
   ]
  },
  {
   "cell_type": "code",
   "execution_count": null,
   "metadata": {},
   "outputs": [],
   "source": [
    "import copy\n",
    "\n",
    "widget_types = {\n",
    "    \"sticky note\" : \"sticky-note\",\n",
    "    \"shape\"       : \"shape\",\n",
    "    \"text\"        : \"textbox\"\n",
    "}\n",
    "\n",
    "def putWidget( auth_token, mural_id, widget ):\n",
    "    # https://developers.mural.co/public/reference/createstickynote\n",
    "    # https://developers.mural.co/public/reference/createshapewidget\n",
    "    # https://developers.mural.co/public/reference/createtextbox\n",
    "    # \n",
    "    widget_type = widget_types[ widget[\"type\"] ]\n",
    "    url = \"https://app.mural.co/api/public/v1/murals/\" + mural_id + \"/widgets/\" + widget_type\n",
    "    headers = { \"Accept\"        : \"application/json\", \n",
    "                \"Content-Type\"  : \"application/json\", \n",
    "                \"Authorization\" : \"Bearer \" + auth_token }\n",
    "    parms = copy.deepcopy( widget )\n",
    "    if \"type\" in parms:\n",
    "        del parms[\"type\"]\n",
    "    response = requests.request( \"POST\", url, headers = headers, json = parms )\n",
    "    response_json = json.loads( response.text )\n",
    "    msg = \"\"\n",
    "    if \"code\" in response_json:\n",
    "        msg += response_json[\"code\"] + \" \"\n",
    "    if \"message\" in response_json:\n",
    "        msg += response_json[\"message\"]\n",
    "    if msg != \"\":\n",
    "        print( \"[ mural ID: \" + mural_id + \" ] [ \" + widget[\"text\"][:15] + \" ]\\nError: \" + msg + \"\\n\" + json.dumps( parms, indent=3 ) )\n",
    "    else:\n",
    "        print( \"[ mural ID: \" + mural_id + \" ] [ \" + widget[\"text\"][:15] + \" ] Success\" )"
   ]
  },
  {
   "cell_type": "code",
   "execution_count": null,
   "metadata": {},
   "outputs": [],
   "source": [
    "for mural in g_murals_arr:\n",
    "    print( \"\\n\\n\" + mural[\"mural_name\"] )\n",
    "    mural_id = mural[\"id\"]\n",
    "    widgets_arr = mural[\"widgets_arr\"]\n",
    "    for widget in widgets_arr:\n",
    "        putWidget( g_auth_token, mural_id, widget )"
   ]
  },
  {
   "cell_type": "code",
   "execution_count": null,
   "metadata": {},
   "outputs": [],
   "source": []
  },
  {
   "cell_type": "code",
   "execution_count": null,
   "metadata": {},
   "outputs": [],
   "source": []
  }
 ],
 "metadata": {
  "kernelspec": {
   "display_name": "Python 3.10",
   "language": "python",
   "name": "python3"
  },
  "language_info": {
   "codemirror_mode": {
    "name": "ipython",
    "version": 3
   },
   "file_extension": ".py",
   "mimetype": "text/x-python",
   "name": "python",
   "nbconvert_exporter": "python",
   "pygments_lexer": "ipython3",
   "version": "3.10.6"
  }
 },
 "nbformat": 4,
 "nbformat_minor": 1
}
