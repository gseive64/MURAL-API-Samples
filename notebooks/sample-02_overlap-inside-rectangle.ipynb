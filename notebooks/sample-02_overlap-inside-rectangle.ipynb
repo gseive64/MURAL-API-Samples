{
 "cells": [
  {
   "cell_type": "markdown",
   "metadata": {},
   "source": [
    "# Overlapping or inside?\n",
    "\n",
    "This notebook demonstrates how to determine if a sticky note overlaps or is inside of a rectangle (or square) shape.\n",
    "\n",
    "The sample mural for this notebook is here: [Sample mural](https://github.com/spackows/MURAL-API-Samples/blob/main/murals/sample-02_overlap-inside-rectangle.json)\n",
    "\n",
    "You can create that mural using the notebook here: [Mural creating notebook](https://github.com/spackows/MURAL-API-Samples/blob/main/notebooks/sample-01_create-a-mural.ipynb)\n",
    "\n",
    "The sample mural for this notebook looks like the following image:\n",
    "\n",
    "<img src=\"https://raw.githubusercontent.com/spackows/MURAL-API-Samples/main/images/sample-02_overlap-inside-rectangle.png\" width=\"50%\" title=\"Image of a mural\" />"
   ]
  },
  {
   "cell_type": "code",
   "execution_count": null,
   "metadata": {},
   "outputs": [],
   "source": []
  },
  {
   "cell_type": "code",
   "execution_count": null,
   "metadata": {},
   "outputs": [],
   "source": []
  },
  {
   "cell_type": "markdown",
   "metadata": {},
   "source": [
    "## Step 1: Collect the mural ID\n",
    "\n",
    "You can find the mural ID in the url of a mural.\n",
    "\n",
    "Mural urls look something like this:\n",
    "\n",
    "```\n",
    "https://app.mural.co/t/<workspace>/m/<workspace>/<id>/...\n",
    "```\n",
    "\n",
    "What you need to pass to the MURAL API is just after the `/m/`: the \\<workspace> and the \\<id>.  And you need to join then with a period.\n",
    "\n",
    "For example, if you have a mural with this url:\n",
    "\n",
    "```\n",
    "https://app.mural.co/t/teamideas1234/m/teamideas1234/1234567890123/...\n",
    "```\n",
    "\n",
    "Then, the mural ID is: `teamideas1234.1234567890123`"
   ]
  },
  {
   "cell_type": "code",
   "execution_count": 35,
   "metadata": {},
   "outputs": [],
   "source": [
    "g_mural_id = \"\""
   ]
  },
  {
   "cell_type": "code",
   "execution_count": null,
   "metadata": {},
   "outputs": [],
   "source": []
  },
  {
   "cell_type": "code",
   "execution_count": null,
   "metadata": {},
   "outputs": [],
   "source": []
  },
  {
   "cell_type": "markdown",
   "metadata": {},
   "source": [
    "## Step 2: Collect your OAuth token"
   ]
  },
  {
   "cell_type": "code",
   "execution_count": 36,
   "metadata": {},
   "outputs": [],
   "source": [
    "g_auth_token = \"\""
   ]
  },
  {
   "cell_type": "code",
   "execution_count": null,
   "metadata": {},
   "outputs": [],
   "source": []
  },
  {
   "cell_type": "code",
   "execution_count": null,
   "metadata": {},
   "outputs": [],
   "source": []
  },
  {
   "cell_type": "markdown",
   "metadata": {},
   "source": [
    "## Step 3: Read the widgets from the mural"
   ]
  },
  {
   "cell_type": "markdown",
   "metadata": {},
   "source": [
    "### First, do a basic call to see what the result looks like"
   ]
  },
  {
   "cell_type": "code",
   "execution_count": 37,
   "metadata": {},
   "outputs": [],
   "source": [
    "import requests\n",
    "import json\n",
    "\n",
    "def listWidgets( mural_id, auth_token ):\n",
    "    # https://developers.mural.co/public/reference/getmuralwidgets\n",
    "    url = \"https://app.mural.co/api/public/v1/murals/\" + mural_id + \"/widgets\"\n",
    "    headers = { \"Accept\": \"application/json\", \"Authorization\": \"Bearer \" + auth_token }\n",
    "    response = requests.request( \"GET\", url, headers = headers )\n",
    "    response_json = json.loads( response.text )\n",
    "    return response_json"
   ]
  },
  {
   "cell_type": "code",
   "execution_count": 38,
   "metadata": {},
   "outputs": [
    {
     "data": {
      "text/plain": [
       "{'code': 'MURAL_NOT_FOUND',\n",
       " 'message': 'The mural was not found or does not exist.'}"
      ]
     },
     "execution_count": 38,
     "metadata": {},
     "output_type": "execute_result"
    }
   ],
   "source": [
    "listWidgets( \"dummy\", g_auth_token )"
   ]
  },
  {
   "cell_type": "code",
   "execution_count": 39,
   "metadata": {},
   "outputs": [
    {
     "data": {
      "text/plain": [
       "{'code': 'UNAUTHORIZED',\n",
       " 'message': \"You don't have the required permissions to access this endpoint.\"}"
      ]
     },
     "execution_count": 39,
     "metadata": {},
     "output_type": "execute_result"
    }
   ],
   "source": [
    "listWidgets( g_mural_id, \"dummy\" )"
   ]
  },
  {
   "cell_type": "code",
   "execution_count": 40,
   "metadata": {},
   "outputs": [
    {
     "data": {
      "text/plain": [
       "{'value': [{'contentEditedBy': {'firstName': 'Sarah',\n",
       "    'lastName': 'Packowski',\n",
       "    'type': 'member'},\n",
       "   'contentEditedOn': 0,\n",
       "   'createdBy': {'firstName': 'Sarah',\n",
       "    'lastName': 'Packowski',\n",
       "    'type': 'member'},\n",
       "   'createdOn': 1650991681040,\n",
       "   'height': 382.750001220703,\n",
       "   'hidden': False,\n",
       "   'hideEditor': False,\n",
       "   'hideOwner': False,\n",
       "   'id': '0-1650991681040',\n",
       "   'instruction': '',\n",
       "   'locked': False,\n",
       "   'lockedByFacilitator': False,\n",
       "   'parentId': None,\n",
       "   'presentationIndex': -1,\n",
       "   'rotation': 0,\n",
       "   'stackingOrder': 0,\n",
       "   'title': '',\n",
       "   'updatedBy': {'firstName': 'Sarah',\n",
       "    'lastName': 'Packowski',\n",
       "    'type': 'member'},\n",
       "   'updatedOn': 1650994432929,\n",
       "   'width': 608.2500024414062,\n",
       "   'x': 302.94,\n",
       "   'y': 314.78,\n",
       "   'shape': 'square',\n",
       "   'style': {'backgroundColor': '#FFFFFF00',\n",
       "    'bold': False,\n",
       "    'font': 'proxima-nova',\n",
       "    'fontSize': 23,\n",
       "    'italic': False,\n",
       "    'strike': False,\n",
       "    'textAlign': 'center',\n",
       "    'underline': False,\n",
       "    'fontColor': '#000000FF',\n",
       "    'strokeColor': '#000000FF',\n",
       "    'strokeSize': 3,\n",
       "    'strokeStyle': 'solid'},\n",
       "   'text': '',\n",
       "   'type': 'shape'},\n",
       "  {'contentEditedBy': {'firstName': 'Sarah',\n",
       "    'lastName': 'Packowski',\n",
       "    'type': 'member'},\n",
       "   'contentEditedOn': 1650991701588,\n",
       "   'createdBy': {'firstName': 'Sarah',\n",
       "    'lastName': 'Packowski',\n",
       "    'type': 'member'},\n",
       "   'createdOn': 1650991688310,\n",
       "   'height': 138,\n",
       "   'hidden': False,\n",
       "   'hideEditor': False,\n",
       "   'hideOwner': False,\n",
       "   'id': '0-1650991688310',\n",
       "   'instruction': '',\n",
       "   'locked': False,\n",
       "   'lockedByFacilitator': False,\n",
       "   'parentId': None,\n",
       "   'presentationIndex': -1,\n",
       "   'rotation': 0,\n",
       "   'stackingOrder': 1,\n",
       "   'title': '',\n",
       "   'updatedBy': {'firstName': 'Sarah',\n",
       "    'lastName': 'Packowski',\n",
       "    'type': 'member'},\n",
       "   'updatedOn': 1650991905227,\n",
       "   'width': 138,\n",
       "   'x': 233.94,\n",
       "   'y': 156.77999999999997,\n",
       "   'minLines': 6,\n",
       "   'shape': 'rectangle',\n",
       "   'style': {'backgroundColor': '#CB8CF9FF',\n",
       "    'bold': False,\n",
       "    'font': 'proxima-nova',\n",
       "    'fontSize': 23,\n",
       "    'italic': False,\n",
       "    'strike': False,\n",
       "    'textAlign': 'center',\n",
       "    'underline': False,\n",
       "    'border': False},\n",
       "   'text': 'This is outside',\n",
       "   'type': 'sticky note'},\n",
       "  {'contentEditedBy': {'firstName': 'Sarah',\n",
       "    'lastName': 'Packowski',\n",
       "    'type': 'member'},\n",
       "   'contentEditedOn': 1650991712746,\n",
       "   'createdBy': {'firstName': 'Sarah',\n",
       "    'lastName': 'Packowski',\n",
       "    'type': 'member'},\n",
       "   'createdOn': 1650991701198,\n",
       "   'height': 138,\n",
       "   'hidden': False,\n",
       "   'hideEditor': False,\n",
       "   'hideOwner': False,\n",
       "   'id': '0-1650991701198',\n",
       "   'instruction': '',\n",
       "   'locked': False,\n",
       "   'lockedByFacilitator': False,\n",
       "   'parentId': None,\n",
       "   'presentationIndex': -1,\n",
       "   'rotation': 0,\n",
       "   'stackingOrder': 2,\n",
       "   'title': '',\n",
       "   'updatedBy': {'firstName': 'Sarah',\n",
       "    'lastName': 'Packowski',\n",
       "    'type': 'member'},\n",
       "   'updatedOn': 1650991937368,\n",
       "   'width': 138,\n",
       "   'x': 564.07,\n",
       "   'y': 239.28,\n",
       "   'minLines': 6,\n",
       "   'shape': 'rectangle',\n",
       "   'style': {'backgroundColor': '#FFCB43FF',\n",
       "    'bold': False,\n",
       "    'font': 'proxima-nova',\n",
       "    'fontSize': 23,\n",
       "    'italic': False,\n",
       "    'strike': False,\n",
       "    'textAlign': 'center',\n",
       "    'underline': False,\n",
       "    'border': False},\n",
       "   'text': 'This overlaps',\n",
       "   'type': 'sticky note'},\n",
       "  {'contentEditedBy': {'firstName': 'Sarah',\n",
       "    'lastName': 'Packowski',\n",
       "    'type': 'member'},\n",
       "   'contentEditedOn': 1650991723591,\n",
       "   'createdBy': {'firstName': 'Sarah',\n",
       "    'lastName': 'Packowski',\n",
       "    'type': 'member'},\n",
       "   'createdOn': 1650991717299,\n",
       "   'height': 138,\n",
       "   'hidden': False,\n",
       "   'hideEditor': False,\n",
       "   'hideOwner': False,\n",
       "   'id': '0-1650991717299',\n",
       "   'instruction': '',\n",
       "   'locked': False,\n",
       "   'lockedByFacilitator': False,\n",
       "   'parentId': None,\n",
       "   'presentationIndex': -1,\n",
       "   'rotation': 0,\n",
       "   'stackingOrder': 3,\n",
       "   'title': '',\n",
       "   'updatedBy': {'firstName': 'Sarah',\n",
       "    'lastName': 'Packowski',\n",
       "    'type': 'member'},\n",
       "   'updatedOn': 1650991771300,\n",
       "   'width': 138,\n",
       "   'x': 406.07000000000005,\n",
       "   'y': 397.28,\n",
       "   'minLines': 6,\n",
       "   'shape': 'rectangle',\n",
       "   'style': {'backgroundColor': '#2D9613FF',\n",
       "    'bold': False,\n",
       "    'font': 'proxima-nova',\n",
       "    'fontSize': 23,\n",
       "    'italic': False,\n",
       "    'strike': False,\n",
       "    'textAlign': 'center',\n",
       "    'underline': False,\n",
       "    'border': False},\n",
       "   'text': 'This is inside',\n",
       "   'type': 'sticky note'}]}"
      ]
     },
     "execution_count": 40,
     "metadata": {},
     "output_type": "execute_result"
    }
   ],
   "source": [
    "listWidgets( g_mural_id, g_auth_token )"
   ]
  },
  {
   "cell_type": "markdown",
   "metadata": {},
   "source": [
    "### Now, add some error handling to make the function more user-friendly"
   ]
  },
  {
   "cell_type": "code",
   "execution_count": 41,
   "metadata": {},
   "outputs": [],
   "source": [
    "def listWidgets( mural_id, auth_token ):\n",
    "    # https://developers.mural.co/public/reference/getmuralwidgets\n",
    "    url = \"https://app.mural.co/api/public/v1/murals/\" + mural_id + \"/widgets\"\n",
    "    headers = { \"Accept\": \"application/json\", \"Authorization\": \"Bearer \" + auth_token }\n",
    "    response = requests.request( \"GET\", url, headers = headers )\n",
    "    response_json = json.loads( response.text )\n",
    "    msg = \"\"\n",
    "    if \"code\" in response_json:\n",
    "        msg += response_json[\"code\"] + \" \"\n",
    "    if \"message\" in response_json:\n",
    "        msg += response_json[\"message\"]\n",
    "    if msg != \"\":\n",
    "        print( msg )\n",
    "        return None\n",
    "    if \"value\" not in response_json:\n",
    "        print( \"No value returned\" )\n",
    "        return None\n",
    "    return response_json[\"value\"]"
   ]
  },
  {
   "cell_type": "code",
   "execution_count": 42,
   "metadata": {},
   "outputs": [
    {
     "name": "stdout",
     "output_type": "stream",
     "text": [
      "MURAL_NOT_FOUND The mural was not found or does not exist.\n"
     ]
    }
   ],
   "source": [
    "listWidgets( \"dummy\", g_auth_token )"
   ]
  },
  {
   "cell_type": "code",
   "execution_count": 43,
   "metadata": {},
   "outputs": [
    {
     "name": "stdout",
     "output_type": "stream",
     "text": [
      "UNAUTHORIZED You don't have the required permissions to access this endpoint.\n"
     ]
    }
   ],
   "source": [
    "listWidgets( g_mural_id, \"dummy\" )"
   ]
  },
  {
   "cell_type": "code",
   "execution_count": 44,
   "metadata": {},
   "outputs": [
    {
     "name": "stdout",
     "output_type": "stream",
     "text": [
      "[\n",
      "  {\n",
      "    \"contentEditedBy\": {\n",
      "      \"firstName\": \"Sarah\",\n",
      "      \"lastName\": \"Packowski\",\n",
      "      \"type\": \"member\"\n",
      "    },\n",
      "    \"contentEditedOn\": 0,\n",
      "    \"createdBy\": {\n",
      "      \"firstName\": \"Sarah\",\n",
      "      \"lastName\": \"Packowski\",\n",
      "      \"type\": \"member\"\n",
      "    },\n",
      "    \"createdOn\": 1650991681040,\n",
      "    \"height\": 382.750001220703,\n",
      "    \"hidden\": false,\n",
      "    \"hideEditor\": false,\n",
      "    \"hideOwner\": false,\n",
      "    \"id\": \"0-1650991681040\",\n",
      "    \"instruction\": \"\",\n",
      "    \"locked\": false,\n",
      "    \"lockedByFacilitator\": false,\n",
      "    \"parentId\": null,\n",
      "    \"presentationIndex\": -1,\n",
      "    \"rotation\": 0,\n",
      "    \"stackingOrder\": 0,\n",
      "    \"title\": \"\",\n",
      "    \"updatedBy\": {\n",
      "      \"firstName\": \"Sarah\",\n",
      "      \"lastName\": \"Packowski\",\n",
      "      \"type\": \"member\"\n",
      "    },\n",
      "    \"updatedOn\": 1650994432929,\n",
      "    \"width\": 608.2500024414062,\n",
      "    \"x\": 302.94,\n",
      "    \"y\": 314.78,\n",
      "    \"shape\": \"square\",\n",
      "    \"style\": {\n",
      "      \"backgroundColor\": \"#FFFFFF00\",\n",
      "      \"bold\": false,\n",
      "      \"font\": \"proxima-nova\",\n",
      "      \"fontSize\": 23,\n",
      "      \"italic\": false,\n",
      "      \"strike\": false,\n",
      "      \"textAlign\": \"center\",\n",
      "      \"underline\": false,\n",
      "      \"fontColor\": \"#000000FF\",\n",
      "      \"strokeColor\": \"#000000FF\",\n",
      "      \"strokeSize\": 3,\n",
      "      \"strokeStyle\": \"solid\"\n",
      "    },\n",
      "    \"text\": \"\",\n",
      "    \"type\": \"shape\"\n",
      "  },\n",
      "  {\n",
      "    \"contentEditedBy\": {\n",
      "      \"firstName\": \"Sarah\",\n",
      "      \"lastName\": \"Packowski\",\n",
      "      \"type\": \"member\"\n",
      "    },\n",
      "    \"contentEditedOn\": 1650991701588,\n",
      "    \"createdBy\": {\n",
      "      \"firstName\": \"Sarah\",\n",
      "      \"lastName\": \"Packowski\",\n",
      "      \"type\": \"member\"\n",
      "    },\n",
      "    \"createdOn\": 1650991688310,\n",
      "    \"height\": 138,\n",
      "    \"hidden\": false,\n",
      "    \"hideEditor\": false,\n",
      "    \"hideOwner\": false,\n",
      "    \"id\": \"0-1650991688310\",\n",
      "    \"instruction\": \"\",\n",
      "    \"locked\": false,\n",
      "    \"lockedByFacilitator\": false,\n",
      "    \"parentId\": null,\n",
      "    \"presentationIndex\": -1,\n",
      "    \"rotation\": 0,\n",
      "    \"stackingOrder\": 1,\n",
      "    \"title\": \"\",\n",
      "    \"updatedBy\": {\n",
      "      \"firstName\": \"Sarah\",\n",
      "      \"lastName\": \"Packowski\",\n",
      "      \"type\": \"member\"\n",
      "    },\n",
      "    \"updatedOn\": 1650991905227,\n",
      "    \"width\": 138,\n",
      "    \"x\": 233.94,\n",
      "    \"y\": 156.77999999999997,\n",
      "    \"minLines\": 6,\n",
      "    \"shape\": \"rectangle\",\n",
      "    \"style\": {\n",
      "      \"backgroundColor\": \"#CB8CF9FF\",\n",
      "      \"bold\": false,\n",
      "      \"font\": \"proxima-nova\",\n",
      "      \"fontSize\": 23,\n",
      "      \"italic\": false,\n",
      "      \"strike\": false,\n",
      "      \"textAlign\": \"center\",\n",
      "      \"underline\": false,\n",
      "      \"border\": false\n",
      "    },\n",
      "    \"text\": \"This is outside\",\n",
      "    \"type\": \"sticky note\"\n",
      "  },\n",
      "  {\n",
      "    \"contentEditedBy\": {\n",
      "      \"firstName\": \"Sarah\",\n",
      "      \"lastName\": \"Packowski\",\n",
      "      \"type\": \"member\"\n",
      "    },\n",
      "    \"contentEditedOn\": 1650991712746,\n",
      "    \"createdBy\": {\n",
      "      \"firstName\": \"Sarah\",\n",
      "      \"lastName\": \"Packowski\",\n",
      "      \"type\": \"member\"\n",
      "    },\n",
      "    \"createdOn\": 1650991701198,\n",
      "    \"height\": 138,\n",
      "    \"hidden\": false,\n",
      "    \"hideEditor\": false,\n",
      "    \"hideOwner\": false,\n",
      "    \"id\": \"0-1650991701198\",\n",
      "    \"instruction\": \"\",\n",
      "    \"locked\": false,\n",
      "    \"lockedByFacilitator\": false,\n",
      "    \"parentId\": null,\n",
      "    \"presentationIndex\": -1,\n",
      "    \"rotation\": 0,\n",
      "    \"stackingOrder\": 2,\n",
      "    \"title\": \"\",\n",
      "    \"updatedBy\": {\n",
      "      \"firstName\": \"Sarah\",\n",
      "      \"lastName\": \"Packowski\",\n",
      "      \"type\": \"member\"\n",
      "    },\n",
      "    \"updatedOn\": 1650991937368,\n",
      "    \"width\": 138,\n",
      "    \"x\": 564.07,\n",
      "    \"y\": 239.28,\n",
      "    \"minLines\": 6,\n",
      "    \"shape\": \"rectangle\",\n",
      "    \"style\": {\n",
      "      \"backgroundColor\": \"#FFCB43FF\",\n",
      "      \"bold\": false,\n",
      "      \"font\": \"proxima-nova\",\n",
      "      \"fontSize\": 23,\n",
      "      \"italic\": false,\n",
      "      \"strike\": false,\n",
      "      \"textAlign\": \"center\",\n",
      "      \"underline\": false,\n",
      "      \"border\": false\n",
      "    },\n",
      "    \"text\": \"This overlaps\",\n",
      "    \"type\": \"sticky note\"\n",
      "  },\n",
      "  {\n",
      "    \"contentEditedBy\": {\n",
      "      \"firstName\": \"Sarah\",\n",
      "      \"lastName\": \"Packowski\",\n",
      "      \"type\": \"member\"\n",
      "    },\n",
      "    \"contentEditedOn\": 1650991723591,\n",
      "    \"createdBy\": {\n",
      "      \"firstName\": \"Sarah\",\n",
      "      \"lastName\": \"Packowski\",\n",
      "      \"type\": \"member\"\n",
      "    },\n",
      "    \"createdOn\": 1650991717299,\n",
      "    \"height\": 138,\n",
      "    \"hidden\": false,\n",
      "    \"hideEditor\": false,\n",
      "    \"hideOwner\": false,\n",
      "    \"id\": \"0-1650991717299\",\n",
      "    \"instruction\": \"\",\n",
      "    \"locked\": false,\n",
      "    \"lockedByFacilitator\": false,\n",
      "    \"parentId\": null,\n",
      "    \"presentationIndex\": -1,\n",
      "    \"rotation\": 0,\n",
      "    \"stackingOrder\": 3,\n",
      "    \"title\": \"\",\n",
      "    \"updatedBy\": {\n",
      "      \"firstName\": \"Sarah\",\n",
      "      \"lastName\": \"Packowski\",\n",
      "      \"type\": \"member\"\n",
      "    },\n",
      "    \"updatedOn\": 1650991771300,\n",
      "    \"width\": 138,\n",
      "    \"x\": 406.07000000000005,\n",
      "    \"y\": 397.28,\n",
      "    \"minLines\": 6,\n",
      "    \"shape\": \"rectangle\",\n",
      "    \"style\": {\n",
      "      \"backgroundColor\": \"#2D9613FF\",\n",
      "      \"bold\": false,\n",
      "      \"font\": \"proxima-nova\",\n",
      "      \"fontSize\": 23,\n",
      "      \"italic\": false,\n",
      "      \"strike\": false,\n",
      "      \"textAlign\": \"center\",\n",
      "      \"underline\": false,\n",
      "      \"border\": false\n",
      "    },\n",
      "    \"text\": \"This is inside\",\n",
      "    \"type\": \"sticky note\"\n",
      "  }\n",
      "]\n"
     ]
    }
   ],
   "source": [
    "widgets_arr = listWidgets( g_mural_id, g_auth_token )\n",
    "print( json.dumps( widgets_arr, indent = 2 ) )"
   ]
  },
  {
   "cell_type": "code",
   "execution_count": null,
   "metadata": {},
   "outputs": [],
   "source": []
  },
  {
   "cell_type": "code",
   "execution_count": null,
   "metadata": {},
   "outputs": [],
   "source": []
  },
  {
   "cell_type": "markdown",
   "metadata": {},
   "source": [
    "## Step 4: Find the stickies and the rectangle\n",
    "\n",
    "*You can pass an optional parameter to the `/getmuralwidgets` endpoint to collect only widgets of a certain type, but because our mural is so simple, it just as easy to call the endpoint once and then post-process the full list of widgets."
   ]
  },
  {
   "cell_type": "code",
   "execution_count": 45,
   "metadata": {},
   "outputs": [],
   "source": [
    "def getStickies( widgets_arr ):\n",
    "    stickies_arr = []\n",
    "    for widget in widgets_arr:\n",
    "        if ( \"type\" in widget ) and ( \"sticky note\" == widget[\"type\"] ):\n",
    "            stickies_arr.append( { \"id\"     : widget[\"id\"],\n",
    "                                   \"x\"      : widget[\"x\"],\n",
    "                                   \"y\"      : widget[\"y\"],\n",
    "                                   \"width\"  : widget[\"width\"],\n",
    "                                   \"height\" : widget[\"height\"],\n",
    "                                   \"text\"   : widget[\"text\"]\n",
    "                                 } )\n",
    "    return stickies_arr\n",
    "\n",
    "def getShapes( widgets_arr ):\n",
    "    shapes_arr = []\n",
    "    for widget in widgets_arr:\n",
    "        if ( \"type\" in widget ) and ( \"shape\" == widget[\"type\"] ):\n",
    "            shapes_arr.append( { \"id\"     : widget[\"id\"],\n",
    "                                 \"x\"      : widget[\"x\"],\n",
    "                                 \"y\"      : widget[\"y\"],\n",
    "                                 \"width\"  : widget[\"width\"],\n",
    "                                 \"height\" : widget[\"height\"]\n",
    "                                } )\n",
    "    return shapes_arr"
   ]
  },
  {
   "cell_type": "code",
   "execution_count": 46,
   "metadata": {},
   "outputs": [
    {
     "name": "stdout",
     "output_type": "stream",
     "text": [
      "[\n",
      "  {\n",
      "    \"id\": \"0-1650991688310\",\n",
      "    \"x\": 233.94,\n",
      "    \"y\": 156.77999999999997,\n",
      "    \"width\": 138,\n",
      "    \"height\": 138,\n",
      "    \"text\": \"This is outside\"\n",
      "  },\n",
      "  {\n",
      "    \"id\": \"0-1650991701198\",\n",
      "    \"x\": 564.07,\n",
      "    \"y\": 239.28,\n",
      "    \"width\": 138,\n",
      "    \"height\": 138,\n",
      "    \"text\": \"This overlaps\"\n",
      "  },\n",
      "  {\n",
      "    \"id\": \"0-1650991717299\",\n",
      "    \"x\": 406.07000000000005,\n",
      "    \"y\": 397.28,\n",
      "    \"width\": 138,\n",
      "    \"height\": 138,\n",
      "    \"text\": \"This is inside\"\n",
      "  }\n",
      "]\n"
     ]
    }
   ],
   "source": [
    "stickies_arr = getStickies( widgets_arr )\n",
    "print( json.dumps( stickies_arr, indent = 2 ) )"
   ]
  },
  {
   "cell_type": "code",
   "execution_count": 47,
   "metadata": {},
   "outputs": [
    {
     "name": "stdout",
     "output_type": "stream",
     "text": [
      "[\n",
      "  {\n",
      "    \"id\": \"0-1650991681040\",\n",
      "    \"x\": 302.94,\n",
      "    \"y\": 314.78,\n",
      "    \"width\": 608.2500024414062,\n",
      "    \"height\": 382.750001220703\n",
      "  }\n",
      "]\n"
     ]
    }
   ],
   "source": [
    "shapes_arr = getShapes( widgets_arr )\n",
    "print( json.dumps( shapes_arr, indent = 2 ) )"
   ]
  },
  {
   "cell_type": "code",
   "execution_count": null,
   "metadata": {},
   "outputs": [],
   "source": []
  },
  {
   "cell_type": "code",
   "execution_count": null,
   "metadata": {},
   "outputs": [],
   "source": []
  },
  {
   "cell_type": "markdown",
   "metadata": {},
   "source": [
    "## Step 5: Figure out if the stickies are overlapping or inside of the rectangle"
   ]
  },
  {
   "cell_type": "code",
   "execution_count": 48,
   "metadata": {},
   "outputs": [],
   "source": [
    "def stickyInsideOverlapsRectangle( sticky, rectangle ):\n",
    "    #\n",
    "    left_edge_overlaps = False\n",
    "    if ( sticky[\"x\"] >= rectangle[\"x\"] ) and \\\n",
    "       ( sticky[\"x\"] <= ( rectangle[\"x\"] + rectangle[\"width\"] ) ):\n",
    "        left_edge_overlaps = True\n",
    "    #\n",
    "    right_edge_overlaps = False\n",
    "    if ( ( sticky[\"x\"] + sticky[\"width\"] ) >= rectangle[\"x\"] ) and \\\n",
    "       ( ( sticky[\"x\"] + sticky[\"width\"] ) <= ( rectangle[\"x\"] + rectangle[\"width\"] ) ):\n",
    "        right_edge_overlaps = True\n",
    "    #\n",
    "    top_edge_overlaps = False\n",
    "    if ( sticky[\"y\"] >= rectangle[\"y\"] ) and \\\n",
    "       ( sticky[\"y\"] <= ( rectangle[\"y\"] + rectangle[\"height\"] ) ):\n",
    "        top_edge_overlaps = True\n",
    "    #\n",
    "    bottom_edge_overlaps = False\n",
    "    if ( ( sticky[\"y\"] + sticky[\"height\"] ) >= rectangle[\"y\"] ) and \\\n",
    "       ( ( sticky[\"y\"] + sticky[\"height\"] ) <= ( rectangle[\"y\"] + rectangle[\"height\"] ) ):\n",
    "        bottom_edge_overlaps = True\n",
    "    \n",
    "    if left_edge_overlaps and right_edge_overlaps and top_edge_overlaps and bottom_edge_overlaps:\n",
    "        return \"inside\"\n",
    "    \n",
    "    if ( left_edge_overlaps or right_edge_overlaps ) and ( top_edge_overlaps or bottom_edge_overlaps ):\n",
    "        return \"overlaps\"\n",
    "    \n",
    "    return \"outside\""
   ]
  },
  {
   "cell_type": "code",
   "execution_count": 49,
   "metadata": {},
   "outputs": [
    {
     "name": "stdout",
     "output_type": "stream",
     "text": [
      "[ outside  ]  Sticky text: 'This is outside'\n",
      "\n",
      "[ overlaps ]  Sticky text: 'This overlaps'\n",
      "\n",
      "[ inside   ]  Sticky text: 'This is inside'\n",
      "\n"
     ]
    }
   ],
   "source": [
    "rectangle = shapes_arr[0];\n",
    "\n",
    "for sticky in stickies_arr:\n",
    "    txt = sticky[\"text\"]\n",
    "    position = stickyInsideOverlapsRectangle( sticky, rectangle )\n",
    "    print( \"[ \" + position.ljust(8) + \" ]  Sticky text: '\" + txt + \"'\\n\" )"
   ]
  },
  {
   "cell_type": "code",
   "execution_count": null,
   "metadata": {},
   "outputs": [],
   "source": []
  },
  {
   "cell_type": "code",
   "execution_count": null,
   "metadata": {},
   "outputs": [],
   "source": []
  }
 ],
 "metadata": {
  "kernelspec": {
   "display_name": "Python 3.9",
   "language": "python",
   "name": "python3"
  },
  "language_info": {
   "codemirror_mode": {
    "name": "ipython",
    "version": 3
   },
   "file_extension": ".py",
   "mimetype": "text/x-python",
   "name": "python",
   "nbconvert_exporter": "python",
   "pygments_lexer": "ipython3",
   "version": "3.9.7"
  }
 },
 "nbformat": 4,
 "nbformat_minor": 1
}
