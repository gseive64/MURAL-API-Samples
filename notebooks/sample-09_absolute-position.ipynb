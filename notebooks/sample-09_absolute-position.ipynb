{
 "cells": [
  {
   "cell_type": "markdown",
   "metadata": {},
   "source": [
    "# Get the absolute position of widgets in groups\n",
    "\n",
    "This notebook demonstrates how to get the absolute position of widgets that are in groups.\n",
    "\n",
    "When widgets are *grouped*, their `[ x, y ]` position is given relative to the group, not in absolute terms, relative to the mural canvas.  If you need to know where widgets are positioned relative to each other, but some of the widgets are grouped, you cannot simply compare their `[ x, y ]` values.\n",
    "\n",
    "The sample mural for this notebook is here: [Sample mural](https://github.com/spackows/MURAL-API-Samples/blob/main/murals/sample-09_absolute-position.json)\n",
    "\n",
    "You can create that mural using the notebook here: [Mural creating notebook](https://github.com/spackows/MURAL-API-Samples/blob/main/notebooks/sample-09_absolute-position.ipynb)\n",
    "\n",
    "The sample mural for this notebook (before moving the sticky notes) looks like the following image:\n",
    "\n",
    "<img src=\"https://raw.githubusercontent.com/spackows/MURAL-API-Samples/main/images/sample-09_absolute-position.png\" width=\"50%\" title=\"Image of a mural\" />"
   ]
  },
  {
   "cell_type": "code",
   "execution_count": null,
   "metadata": {},
   "outputs": [],
   "source": []
  },
  {
   "cell_type": "code",
   "execution_count": null,
   "metadata": {},
   "outputs": [],
   "source": []
  },
  {
   "cell_type": "markdown",
   "metadata": {},
   "source": [
    "## Step 1: Collect the mural ID\n",
    "\n",
    "You can find the mural ID in the url of a mural.\n",
    "\n",
    "Mural urls look something like this:\n",
    "\n",
    "```\n",
    "https://app.mural.co/t/<workspace>/m/<workspace>/<id>/...\n",
    "```\n",
    "\n",
    "What you need to pass to the MURAL API is just after the `/m/`: the \\<workspace> and the \\<id>.  And you need to join then with a period.\n",
    "\n",
    "For example, if you have a mural with this url:\n",
    "\n",
    "```\n",
    "https://app.mural.co/t/teamideas1234/m/teamideas1234/1234567890123/...\n",
    "```\n",
    "\n",
    "Then, the mural ID is: `teamideas1234.1234567890123`"
   ]
  },
  {
   "cell_type": "code",
   "execution_count": 1,
   "metadata": {},
   "outputs": [],
   "source": [
    "g_mural_id = \"\""
   ]
  },
  {
   "cell_type": "code",
   "execution_count": null,
   "metadata": {},
   "outputs": [],
   "source": []
  },
  {
   "cell_type": "code",
   "execution_count": null,
   "metadata": {},
   "outputs": [],
   "source": []
  },
  {
   "cell_type": "markdown",
   "metadata": {},
   "source": [
    "## Step 2: Collect your OAuth token"
   ]
  },
  {
   "cell_type": "code",
   "execution_count": 40,
   "metadata": {},
   "outputs": [],
   "source": [
    "g_auth_token = \"\""
   ]
  },
  {
   "cell_type": "code",
   "execution_count": null,
   "metadata": {},
   "outputs": [],
   "source": []
  },
  {
   "cell_type": "code",
   "execution_count": null,
   "metadata": {},
   "outputs": [],
   "source": []
  },
  {
   "cell_type": "markdown",
   "metadata": {},
   "source": [
    "## Step 3: Read the widgets from the mural\n",
    "\n",
    "In this sample, some widgets in the mural are sticky notes and some are shapes - squares (rectangles, really)."
   ]
  },
  {
   "cell_type": "code",
   "execution_count": 38,
   "metadata": {},
   "outputs": [],
   "source": [
    "import requests\n",
    "import json\n",
    "\n",
    "def listWidgets( mural_id, auth_token ):\n",
    "    # https://developers.mural.co/public/reference/getmuralwidgets\n",
    "    url = \"https://app.mural.co/api/public/v1/murals/\" + mural_id + \"/widgets\"\n",
    "    headers = { \"Accept\": \"application/json\", \"Authorization\": \"Bearer \" + auth_token }\n",
    "    response = requests.request( \"GET\", url, headers = headers )\n",
    "    response_json = json.loads( response.text )\n",
    "    msg = \"\"\n",
    "    if \"code\" in response_json:\n",
    "        msg += response_json[\"code\"] + \" \"\n",
    "    if \"message\" in response_json:\n",
    "        msg += response_json[\"message\"]\n",
    "    if msg != \"\":\n",
    "        print( msg )\n",
    "        return []\n",
    "    if \"value\" not in response_json:\n",
    "        print( \"No value returned\" )\n",
    "        return []\n",
    "    return response_json[\"value\"]"
   ]
  },
  {
   "cell_type": "code",
   "execution_count": 29,
   "metadata": {},
   "outputs": [],
   "source": [
    "widgets_arr_ungrouped = listWidgets( g_mural_id, g_auth_token )"
   ]
  },
  {
   "cell_type": "markdown",
   "metadata": {},
   "source": [
    "## Print the widgets\n",
    "\n",
    "Notice the x-position of the widgets proceeds from smallest to largest, left to right, as expected: A, B, C."
   ]
  },
  {
   "cell_type": "code",
   "execution_count": 32,
   "metadata": {},
   "outputs": [],
   "source": [
    "def orderWidgetsByX( widgets_arr ):\n",
    "    return sorted( widgets_arr, key=lambda x: x[\"x\"] )\n",
    "    \n",
    "def printWidgets( widgets_arr ):\n",
    "    ordered_widgets = orderWidgetsByX( widgets_arr )\n",
    "    print( \"ID\".ljust(19) + \"TYPE\".ljust( 8 ) + \"[   x,   y ]\".ljust(15) + \"TEXT\\n\" )\n",
    "    for widget in ordered_widgets:\n",
    "        widget_id = widget[\"id\"].ljust(19)\n",
    "        widget_type = widget[\"type\"].ljust( 8 )\n",
    "        widget_x = str( round( widget[\"x\"] ) ).rjust( 3 )\n",
    "        widget_y = str( round( widget[\"y\"] ) ).rjust( 3 )\n",
    "        pos = \"[ \" + widget_x + \", \" + widget_y + \" ]\"\n",
    "        txt = widget[\"text\"] if ( \"text\" in widget ) else \"\"\n",
    "        print( widget_id + widget_type + pos.ljust(15) + txt )"
   ]
  },
  {
   "cell_type": "code",
   "execution_count": 33,
   "metadata": {},
   "outputs": [
    {
     "name": "stdout",
     "output_type": "stream",
     "text": [
      "ID                 TYPE    [   x,   y ]   TEXT\n",
      "\n",
      "0-1654051281139    shape   [ 105, 173 ]   A\n",
      "0-1654051291443    shape   [ 404, 142 ]   B\n",
      "0-1654051302806    shape   [ 559, 166 ]   C\n"
     ]
    }
   ],
   "source": [
    "printWidgets( widgets_arr_ungrouped )"
   ]
  },
  {
   "cell_type": "code",
   "execution_count": null,
   "metadata": {},
   "outputs": [],
   "source": []
  },
  {
   "cell_type": "code",
   "execution_count": null,
   "metadata": {},
   "outputs": [],
   "source": []
  },
  {
   "cell_type": "markdown",
   "metadata": {},
   "source": [
    "# Step 4: Group B and C\n",
    "\n",
    "Select both shapes, B and C.  Then right-click and choose \"Group\" as shown below:\n",
    "\n",
    "<img src=\"https://raw.githubusercontent.com/spackows/MURAL-API-Samples/main/images/sample-09_absolute-position.gif\" alt=\"Group widgets\" width=\"50%\" />"
   ]
  },
  {
   "cell_type": "code",
   "execution_count": null,
   "metadata": {},
   "outputs": [],
   "source": []
  },
  {
   "cell_type": "code",
   "execution_count": null,
   "metadata": {},
   "outputs": [],
   "source": []
  },
  {
   "cell_type": "markdown",
   "metadata": {},
   "source": [
    "# Step 5: Read the widgets from the mural again\n",
    "\n",
    "This time, notice ordering the widgets by their x-value doesn't work anymore.  \n",
    "\n",
    "And there's a new widget, an `area` ??\n",
    "\n",
    "The `[ x, y ]` position of widgets B and C are now given relative to the area that was created by grouping the two widgets."
   ]
  },
  {
   "cell_type": "code",
   "execution_count": 36,
   "metadata": {},
   "outputs": [],
   "source": [
    "widgets_arr_grouped = listWidgets( g_mural_id, g_auth_token )"
   ]
  },
  {
   "cell_type": "code",
   "execution_count": 37,
   "metadata": {},
   "outputs": [
    {
     "name": "stdout",
     "output_type": "stream",
     "text": [
      "ID                 TYPE    [   x,   y ]   TEXT\n",
      "\n",
      "0-1654051291443    shape   [   0,   0 ]   B\n",
      "0-1654051281139    shape   [ 105, 173 ]   A\n",
      "0-1654051302806    shape   [ 155,  24 ]   C\n",
      "0-1654054454818    area    [ 404, 142 ]   \n"
     ]
    }
   ],
   "source": [
    "printWidgets( widgets_arr_grouped )"
   ]
  },
  {
   "cell_type": "code",
   "execution_count": null,
   "metadata": {},
   "outputs": [],
   "source": []
  },
  {
   "cell_type": "code",
   "execution_count": null,
   "metadata": {},
   "outputs": [],
   "source": []
  },
  {
   "cell_type": "markdown",
   "metadata": {},
   "source": [
    "# Step 6: Get the absolute position of widgets\n",
    "\n",
    "Looking more closely at `widgets_arr_grouped`, you can see widgets B and C have a `parentId` attribute that is pointing to the area.\n",
    "\n",
    "We can get the absolute position of widgets B and C by using the position information of that parent widget."
   ]
  },
  {
   "cell_type": "code",
   "execution_count": 44,
   "metadata": {},
   "outputs": [],
   "source": [
    "def getWidget( widget_id_in, widgets_arr ):\n",
    "    for widget in widgets_arr:\n",
    "        if widget[\"id\"] == widget_id_in:\n",
    "            return widget\n",
    "    return None\n",
    "\n",
    "def getParentOffset( parent_id, widgets_arr ):\n",
    "    offset = { \"x\" : 0, \"y\" : 0 }\n",
    "    parent_widget = getWidget( parent_id, widgets_arr )\n",
    "    if None != parent_widget:\n",
    "        offset[\"x\"] += parent_widget[\"x\"]\n",
    "        offset[\"y\"] += parent_widget[\"y\"]\n",
    "        # Now recurse, in case the parent has a parent...\n",
    "        parent_offset = getParentOffset( parent_widget[\"parentId\"], widgets_arr )\n",
    "        offset[\"x\"] += parent_offset[\"x\"]\n",
    "        offset[\"y\"] += parent_offset[\"y\"]\n",
    "    return offset\n",
    "\n",
    "def getAbsoluteWidgets( mural_id, auth_token ):\n",
    "    widgets_arr = listWidgets( mural_id, auth_token )\n",
    "    if len( widgets_arr ) < 1:\n",
    "        print( \"Failed to find widgets in the mural\" )\n",
    "        return None\n",
    "    absolute_widgets_arr = []\n",
    "    for widget in widgets_arr:\n",
    "        parent_offset = getParentOffset( widget[\"parentId\"], widgets_arr )\n",
    "        x = widget[\"x\"] + parent_offset[\"x\"]\n",
    "        y = widget[\"y\"] + parent_offset[\"y\"]\n",
    "        absolute_widget = { \"id\" : widget[\"id\"],\n",
    "                             \"x\" : x,\n",
    "                             \"y\" : y,\n",
    "                             \"type\" : widget[\"type\"] \n",
    "                          }\n",
    "        if \"text\" in widget:\n",
    "            absolute_widget[\"text\"] = widget[\"text\"]\n",
    "        absolute_widgets_arr.append( absolute_widget )\n",
    "    return absolute_widgets_arr"
   ]
  },
  {
   "cell_type": "code",
   "execution_count": 45,
   "metadata": {},
   "outputs": [],
   "source": [
    "absolute_widgets_arr_grouped = getAbsoluteWidgets( g_mural_id, g_auth_token )"
   ]
  },
  {
   "cell_type": "code",
   "execution_count": 46,
   "metadata": {},
   "outputs": [
    {
     "name": "stdout",
     "output_type": "stream",
     "text": [
      "ID                 TYPE    [   x,   y ]   TEXT\n",
      "\n",
      "0-1654051281139    shape   [ 105, 173 ]   A\n",
      "0-1654051291443    shape   [ 404, 142 ]   B\n",
      "0-1654054454818    area    [ 404, 142 ]   \n",
      "0-1654051302806    shape   [ 559, 166 ]   C\n"
     ]
    }
   ],
   "source": [
    "printWidgets( absolute_widgets_arr_grouped )"
   ]
  },
  {
   "cell_type": "code",
   "execution_count": null,
   "metadata": {},
   "outputs": [],
   "source": []
  },
  {
   "cell_type": "code",
   "execution_count": null,
   "metadata": {},
   "outputs": [],
   "source": []
  }
 ],
 "metadata": {
  "kernelspec": {
   "display_name": "Python 3.9",
   "language": "python",
   "name": "python3"
  },
  "language_info": {
   "codemirror_mode": {
    "name": "ipython",
    "version": 3
   },
   "file_extension": ".py",
   "mimetype": "text/x-python",
   "name": "python",
   "nbconvert_exporter": "python",
   "pygments_lexer": "ipython3",
   "version": "3.9.7"
  }
 },
 "nbformat": 4,
 "nbformat_minor": 1
}
