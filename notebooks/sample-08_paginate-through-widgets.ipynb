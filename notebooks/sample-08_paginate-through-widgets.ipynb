{
 "cells": [
  {
   "cell_type": "markdown",
   "metadata": {},
   "source": [
    "# Paginate through widgets\n",
    "\n",
    "This notebook demonstrates how to use the `next` parameter with the [`getwidgets`](https://developers.mural.co/public/reference/getmuralwidgets) MURAL API endpoint.\n",
    "\n",
    "The sample mural for this notebook is here: [Sample mural](https://github.com/spackows/MURAL-API-Samples/blob/main/murals/sample-04_sentiment.json)\n",
    "\n",
    "You can create that mural using the notebook here: [Mural creating notebook](https://github.com/spackows/MURAL-API-Samples/blob/main/notebooks/sample-01_create-a-mural.ipynb)\n",
    "\n",
    "The sample mural for this notebook looks like the following image:\n",
    "\n",
    "<img src=\"https://raw.githubusercontent.com/spackows/MURAL-API-Samples/main/images/sample-04_sentiment.png\" width=\"50%\" title=\"Image of a mural\" />"
   ]
  },
  {
   "cell_type": "code",
   "execution_count": null,
   "metadata": {},
   "outputs": [],
   "source": []
  },
  {
   "cell_type": "code",
   "execution_count": null,
   "metadata": {},
   "outputs": [],
   "source": []
  },
  {
   "cell_type": "markdown",
   "metadata": {},
   "source": [
    "## Step 1: Collect the mural ID\n",
    "\n",
    "You can find the mural ID in the url of a mural.\n",
    "\n",
    "Mural urls look something like this:\n",
    "\n",
    "```\n",
    "https://app.mural.co/t/<workspace>/m/<workspace>/<id>/...\n",
    "```\n",
    "\n",
    "What you need to pass to the MURAL API is just after the `/m/`: the `<workspace>` and the `<id>`.  And you need to join them with a period.\n",
    "\n",
    "For example, if you have a mural with this url:\n",
    "\n",
    "```\n",
    "https://app.mural.co/t/teamideas1234/m/teamideas1234/1234567890123/...\n",
    "```\n",
    "\n",
    "Then, the mural ID is: `teamideas1234.1234567890123`"
   ]
  },
  {
   "cell_type": "code",
   "execution_count": 24,
   "metadata": {},
   "outputs": [],
   "source": [
    "g_mural_id = \"\""
   ]
  },
  {
   "cell_type": "code",
   "execution_count": null,
   "metadata": {},
   "outputs": [],
   "source": []
  },
  {
   "cell_type": "code",
   "execution_count": null,
   "metadata": {},
   "outputs": [],
   "source": []
  },
  {
   "cell_type": "markdown",
   "metadata": {},
   "source": [
    "## Step 2: Collect your OAuth token"
   ]
  },
  {
   "cell_type": "code",
   "execution_count": 25,
   "metadata": {},
   "outputs": [],
   "source": [
    "g_auth_token = \"\""
   ]
  },
  {
   "cell_type": "code",
   "execution_count": null,
   "metadata": {},
   "outputs": [],
   "source": []
  },
  {
   "cell_type": "code",
   "execution_count": null,
   "metadata": {},
   "outputs": [],
   "source": []
  },
  {
   "cell_type": "markdown",
   "metadata": {},
   "source": [
    "## Step 3: Read the widgets from the mural\n",
    "\n",
    "In this sample, we'll use the `limit` parameter to cause the `getwidgets` endpoint to return only 3 widgets in each call.\n",
    "\n",
    "There are more than a dozen widgets (sticky notes) in the sample mural.  So, we'll need to call the endpoint multiple times with the `next` parameter to get all the widgets."
   ]
  },
  {
   "cell_type": "code",
   "execution_count": 26,
   "metadata": {},
   "outputs": [],
   "source": [
    "import requests\n",
    "import json\n",
    "\n",
    "def listWidgets( mural_id, auth_token, next_token ):\n",
    "    # https://developers.mural.co/public/reference/getmuralwidgets\n",
    "    url = \"https://app.mural.co/api/public/v1/murals/\" + mural_id + \"/widgets?limit=3\"\n",
    "    if next_token:\n",
    "        url += \"&next=\" + next_token\n",
    "    headers = { \"Accept\": \"application/json\", \"Authorization\": \"Bearer \" + auth_token }\n",
    "    response = requests.request( \"GET\", url, headers = headers )\n",
    "    response_json = json.loads( response.text )\n",
    "    msg = \"\"\n",
    "    if \"code\" in response_json:\n",
    "        msg += response_json[\"code\"] + \" \"\n",
    "    if \"message\" in response_json:\n",
    "        msg += response_json[\"message\"]\n",
    "    if msg != \"\":\n",
    "        print( msg )\n",
    "        return { \"value\" : [] }\n",
    "    if \"value\" not in response_json:\n",
    "        print( \"No value returned\" )\n",
    "        return { \"value\" : [] }\n",
    "    return response_json\n",
    "\n",
    "def printInfo( response_json, counter ):\n",
    "    print( \"[ Page \" + str( counter ) + \" ]\" )\n",
    "    widgets_arr = response_json[\"value\"]\n",
    "    for widget in widgets_arr:\n",
    "        print( widget[\"text\"] )\n",
    "    if( \"next\" in response_json ):\n",
    "        print( \"\\n'next' : \" + response_json[\"next\"][0:10] + \"...\" )\n",
    "    else:\n",
    "        print( \"\\n'next' : None\" )\n",
    "    print( \"\" )\n",
    "\n",
    "def listAllWidgets( mural_id, auth_token ):\n",
    "    all_results = []\n",
    "    response_json = listWidgets( mural_id, auth_token, None )\n",
    "    counter = 1                                # For demo purposes only\n",
    "    printInfo( response_json, counter )        # For demo purposes only\n",
    "    counter += 1                               # For demo purposes only\n",
    "    all_results += response_json[\"value\"]\n",
    "    while \"next\" in response_json:\n",
    "        response_json = listWidgets( mural_id, auth_token, response_json[\"next\"] )\n",
    "        printInfo( response_json, counter )    # For demo purposes only\n",
    "        counter += 1                           # For demo purposes only\n",
    "        all_results += response_json[\"value\"]\n",
    "    return all_results"
   ]
  },
  {
   "cell_type": "code",
   "execution_count": 27,
   "metadata": {},
   "outputs": [
    {
     "name": "stdout",
     "output_type": "stream",
     "text": [
      "[ Page 1 ]\n",
      "I love winter!\n",
      "I don't do well in the heat\n",
      "Fall is colourful\n",
      "\n",
      "'next' : ODE3NTAwNz...\n",
      "\n",
      "[ Page 2 ]\n",
      "Spring makes me feel optimistic\n",
      "I hate the cold\n",
      "Fall leaves are beautiful\n",
      "\n",
      "'next' : MDM2NTZlMj...\n",
      "\n",
      "[ Page 3 ]\n",
      "Nothing is as soothing as drinking hot chocolate after being out in the cold\n",
      "Swimming in the summer makes me so happy\n",
      "I feel sad watching everything die off in the fall\n",
      "\n",
      "'next' : MzExMmY2Zj...\n",
      "\n",
      "[ Page 4 ]\n",
      "summer is for relaxing\n",
      "spring and fall are shorter\n",
      "seasons bring a change of pace\n",
      "\n",
      "'next' : ZTcwMGYxNG...\n",
      "\n",
      "[ Page 5 ]\n",
      "We go south for the winter every year\n",
      "\n",
      "'next' : None\n",
      "\n",
      "\n",
      "Total number of widgets: 13\n"
     ]
    }
   ],
   "source": [
    "widgets_arr = listAllWidgets( g_mural_id, g_auth_token )\n",
    "print( \"\\nTotal number of widgets: \" + str( len( widgets_arr ) ) )"
   ]
  },
  {
   "cell_type": "code",
   "execution_count": null,
   "metadata": {},
   "outputs": [],
   "source": []
  },
  {
   "cell_type": "code",
   "execution_count": null,
   "metadata": {},
   "outputs": [],
   "source": []
  }
 ],
 "metadata": {
  "kernelspec": {
   "display_name": "Python 3.9",
   "language": "python",
   "name": "python3"
  },
  "language_info": {
   "codemirror_mode": {
    "name": "ipython",
    "version": 3
   },
   "file_extension": ".py",
   "mimetype": "text/x-python",
   "name": "python",
   "nbconvert_exporter": "python",
   "pygments_lexer": "ipython3",
   "version": "3.9.7"
  }
 },
 "nbformat": 4,
 "nbformat_minor": 1
}
