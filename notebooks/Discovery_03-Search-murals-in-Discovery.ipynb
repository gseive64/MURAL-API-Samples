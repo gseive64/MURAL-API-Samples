{
 "cells": [
  {
   "cell_type": "markdown",
   "metadata": {
    "collapsed": true
   },
   "source": [
    "# Experiment with searches\n",
    "\n",
    "## Table of contents\n",
    "\n",
    "<ol style=\"list-style: none; margin: 20px 0px 0px 0px; padding: 0px\">\n",
    "<li style=\"margin: 0px 0px 3px 0px;\"><b>Step 1:</b> Authenticate with Watson Discovery</li>\n",
    "<li style=\"margin: 0px 0px 3px 0px;\"><b>Step 2:</b> Run some Discovery query language searches</li>\n",
    "<li style=\"margin: 0px 0px 3px 0px;\"><b>Step 3:</b> Format results</li>\n",
    "</ol>"
   ]
  },
  {
   "cell_type": "markdown",
   "metadata": {},
   "source": [
    "## Step 1: Authenticate with Watson Discovery\n",
    "\n",
    "### 1.1 Create a service instance\n",
    "\n",
    "Create an instance of the IBM Watson Discovery service.  \n",
    "\n",
    "See: [IBM Watson Discovery in the IBM Cloud catalog](https://cloud.ibm.com/catalog/services/watson-discovery)\n",
    "\n",
    "\n",
    "### 1.2 Get the API key and URL for your service instance\n",
    "\n",
    "From the \"manage\" page of your Discovery service instance in IBM Cloud, copy the API key and URL into the cell below."
   ]
  },
  {
   "cell_type": "code",
   "execution_count": null,
   "metadata": {},
   "outputs": [],
   "source": [
    "g_discovery_apikey = \"\"\n",
    "g_discovery_url = \"\""
   ]
  },
  {
   "cell_type": "markdown",
   "metadata": {},
   "source": [
    "### 1.3 Install `ibm_watson` library\n",
    "\n",
    "See: [IBM Watson Discovery v2 API](https://cloud.ibm.com/apidocs/discovery-data?code=python)"
   ]
  },
  {
   "cell_type": "code",
   "execution_count": null,
   "metadata": {},
   "outputs": [],
   "source": [
    "!pip install ibm_watson"
   ]
  },
  {
   "cell_type": "markdown",
   "metadata": {},
   "source": [
    "### 1.4 Authenticate\n",
    "\n",
    "See: [Discovery authentication for IBM Cloud](https://cloud.ibm.com/apidocs/discovery-data?code=python#authentication-cloud)"
   ]
  },
  {
   "cell_type": "code",
   "execution_count": null,
   "metadata": {},
   "outputs": [],
   "source": [
    "from ibm_watson import DiscoveryV2\n",
    "from ibm_cloud_sdk_core.authenticators import IAMAuthenticator\n",
    "\n",
    "authenticator = IAMAuthenticator( g_discovery_apikey )\n",
    "g_discovery = DiscoveryV2( version= \"2020-08-30\", authenticator=authenticator )\n",
    "\n",
    "g_discovery.set_service_url( g_discovery_url )"
   ]
  },
  {
   "cell_type": "code",
   "execution_count": null,
   "metadata": {},
   "outputs": [],
   "source": []
  },
  {
   "cell_type": "markdown",
   "metadata": {},
   "source": [
    "## Step 2: Run some Discovery query language searches\n",
    "\n",
    "### 2.1 Get Discovery project ID\n",
    "\n",
    "In the [Upload documents to Discovery](https://github.com/spackows/MURAL-API-Samples/blob/main/notebooks/Discovery_02-Upload-documents-to-Discovery.ipynb) notebook, data was uploaded to Watson Discovery for search.\n",
    "\n",
    "The call to `createDiscoveryProject` returned a project ID.  Paste that project ID in the cell below."
   ]
  },
  {
   "cell_type": "code",
   "execution_count": null,
   "metadata": {},
   "outputs": [],
   "source": [
    "g_discovery_proj_id =\"\""
   ]
  },
  {
   "cell_type": "markdown",
   "metadata": {},
   "source": [
    "### 2.2 Basic, empty search\n",
    "\n",
    "This returns all documents.\n",
    "\n",
    "See: [Discovery query](https://cloud.ibm.com/apidocs/discovery-data?code=python#query)"
   ]
  },
  {
   "cell_type": "code",
   "execution_count": null,
   "metadata": {},
   "outputs": [],
   "source": [
    "import json\n",
    "\n",
    "response = g_discovery.query( project_id=g_discovery_proj_id, \n",
    "                              query=\"\"\n",
    "                            ).get_result()\n",
    "\n",
    "print( json.dumps( response, indent=2 ) )"
   ]
  },
  {
   "cell_type": "markdown",
   "metadata": {},
   "source": [
    "### 2.3 Empty search with filter\n",
    "\n",
    "In this case, filter results so only murals in the room named \"Sarah's room\" are included in results.\n",
    "\n",
    "See:\n",
    "- [Discovery query language](https://cloud.ibm.com/docs/discovery-data?topic=discovery-data-query-dql-overview)\n",
    "- [Filters](https://cloud.ibm.com/docs/discovery-data?topic=discovery-data-query-parameters#filter)\n",
    "- [Query operators](https://cloud.ibm.com/docs/discovery-data?topic=discovery-data-query-operators)"
   ]
  },
  {
   "cell_type": "code",
   "execution_count": null,
   "metadata": {},
   "outputs": [],
   "source": [
    "response = g_discovery.query( project_id=g_discovery_proj_id, \n",
    "                              query=\"\",\n",
    "                              filter=\"room.name::Sarah's room\"\n",
    "                            ).get_result()\n",
    "\n",
    "print( json.dumps( response, indent=2 ) )"
   ]
  },
  {
   "cell_type": "markdown",
   "metadata": {},
   "source": [
    "### 2.4 Search with a non-empty query\n",
    "\n",
    "Searching for a simple string `bear zebra` returns the document for the mural called \"Zoo animals\"."
   ]
  },
  {
   "cell_type": "code",
   "execution_count": null,
   "metadata": {},
   "outputs": [],
   "source": [
    "response = g_discovery.query( project_id=g_discovery_proj_id, \n",
    "                              query=\"bear zebra\"\n",
    "                            ).get_result()\n",
    "\n",
    "print( json.dumps( response, indent=2 ) )"
   ]
  },
  {
   "cell_type": "markdown",
   "metadata": {},
   "source": [
    "### 2.5 Specify to include passages of emphasized text in results\n",
    "\n",
    "Use the \"passages\" query parameter to include emphasized text in query results.  \n",
    "\n",
    "Passages aren't strictly necessary, but it's useful to see the actual text that caused Discovery to select a given document as a match.\n",
    "\n",
    "See: [Passages](https://cloud.ibm.com/docs/discovery-data?topic=discovery-data-query-parameters#passages)"
   ]
  },
  {
   "cell_type": "code",
   "execution_count": null,
   "metadata": {},
   "outputs": [],
   "source": [
    "# See passages of matches in sticky notes\n",
    "response = g_discovery.query( project_id=g_discovery_proj_id, \n",
    "                              query=\"bear zebra\",\n",
    "                              passages={ \"fields\" : [ \"sticky_arr.text\" ] }\n",
    "                            ).get_result()\n",
    "\n",
    "print( json.dumps( response[\"results\"][0][\"document_passages\"], indent=2 ) )"
   ]
  },
  {
   "cell_type": "code",
   "execution_count": null,
   "metadata": {},
   "outputs": [],
   "source": [
    "# See passages of matches in text widgets\n",
    "response = g_discovery.query( project_id=g_discovery_proj_id, \n",
    "                              query=\"bear zebra\",\n",
    "                              passages={ \"fields\" : [ \"text_arr.text\" ] }\n",
    "                            ).get_result()\n",
    "\n",
    "print( json.dumps( response[\"results\"][0][\"document_passages\"], indent=2 ) )"
   ]
  },
  {
   "cell_type": "markdown",
   "metadata": {},
   "source": [
    "### 2.6 Search in specific fields\n",
    "\n",
    "Searching for `Turkey bear` returns two murals: **Farm animals** and **Zoo animals**.\n",
    "\n",
    "But using Discovery query language to search in only the `sticky_arr.text` field returns just the \"Polar bear\" match in the **Zoo animals** mural, because \"Polar bear\" is on a sticky note and \"Turkey\" is on a shape widget."
   ]
  },
  {
   "cell_type": "code",
   "execution_count": null,
   "metadata": {},
   "outputs": [],
   "source": [
    "response = g_discovery.query( project_id=g_discovery_proj_id, \n",
    "                              query=\"Turkey bear\"\n",
    "                            ).get_result()\n",
    "\n",
    "print( json.dumps( response, indent=2 ) )"
   ]
  },
  {
   "cell_type": "code",
   "execution_count": null,
   "metadata": {},
   "outputs": [],
   "source": [
    "response = g_discovery.query( project_id=g_discovery_proj_id, \n",
    "                              query=\"sticky_arr.text:Turkey bear\"\n",
    "                            ).get_result()\n",
    "\n",
    "print( json.dumps( response, indent=2 ) )"
   ]
  },
  {
   "cell_type": "code",
   "execution_count": null,
   "metadata": {},
   "outputs": [],
   "source": []
  },
  {
   "cell_type": "markdown",
   "metadata": {},
   "source": [
    "## Step 3: Format results\n",
    "\n",
    "The raw, JSON results from Discovery contain a lot of information.  The following function returns a subset of the information."
   ]
  },
  {
   "cell_type": "code",
   "execution_count": null,
   "metadata": {},
   "outputs": [],
   "source": [
    "import re\n",
    "\n",
    "def formatResults( query_results ):\n",
    "    formatted_results = []\n",
    "    for result in query_results:\n",
    "        room_name = result[\"room\"][\"name\"] if ( ( \"room\" in result ) and ( \"name\" in result[\"room\"] ) ) else \"\"\n",
    "        workspace_name = result[\"workspace_name\"] if ( \"workspace_name\" in result ) else \"\"\n",
    "        mural_title = result[\"title\"] if ( \"title\" in result ) else \"\"\n",
    "        mural_link = result[\"link\"] if ( \"link\" in result ) else \"\"\n",
    "        mural_thumbnail = result[\"thumbnail\"] if ( \"thumbnail\" in result ) else \"\"\n",
    "        created = result[\"created\"] if ( \"created\" in result ) else -1\n",
    "        creator = result[\"creator\"] if ( \"creator\" in result ) else \"\"\n",
    "        formatted_result = { \"workspace_name\"  : workspace_name,\n",
    "                             \"room_name\"       : room_name,\n",
    "                             \"mural_title\"     : mural_title,\n",
    "                             \"mural_link\"      : mural_link,\n",
    "                             \"mural_thumbnail\" : mural_thumbnail,\n",
    "                             \"created\"         : created,\n",
    "                             \"creator\"         : creator,\n",
    "                             \"passages\"        : [] }\n",
    "        passages = result[\"document_passages\"] if ( \"document_passages\" in result ) else []\n",
    "        for passage in passages:\n",
    "            passage_text = passage[\"passage_text\"] if ( \"passage_text\" in passage ) else \"\"\n",
    "            passage_field = passage[\"field\"] if ( \"field\" in passage ) else \"\"\n",
    "            subpassages = re.findall( r\"__SPLTB__.*?__SPLTE__\", passage_text )\n",
    "            for subpassage in subpassages:\n",
    "                if re.match( r\".*\\<em>.*\", subpassage ):\n",
    "                    subpassage = re.sub( r\"^__SPLTB__\", \"\", subpassage )\n",
    "                    subpassage = re.sub( r\"__SPLTE__$\", \"\", subpassage )\n",
    "                    parts = subpassage.split( \"|\", 1 )\n",
    "                    if ( parts is not None ) and ( len( parts ) > 1 ):\n",
    "                        widget_id = parts[0]\n",
    "                        subpassage = parts[1]\n",
    "                        widget_type = re.sub( r\"_arr.*$\", \"\", passage_field )\n",
    "                        subpassage = \"[ \" + widget_type + \" ] \" + subpassage\n",
    "                        shape = getShape( widget_id, passage_field, result )\n",
    "                        if shape is not None:\n",
    "                            subpassage = \"[ \" + shape + \" ] \" + subpassage\n",
    "                        formatted_result[\"passages\"].append( subpassage )\n",
    "        formatted_results.append( formatted_result )\n",
    "    return formatted_results\n",
    "\n",
    "def getShape( widget_id, passage_field, result ):\n",
    "    field_parts = passage_field.split( \".\" )\n",
    "    if ( field_parts is None ) or ( len( field_parts ) < 2 ) or ( \"text_arr\" == field_parts[0] ):\n",
    "        return None\n",
    "    shape = None\n",
    "    result_arr = result[ field_parts[0] ]\n",
    "    if isinstance( result_arr, list ):\n",
    "        for widget in result_arr:\n",
    "            if widget[\"id\"] == widget_id:\n",
    "                shape = widget[\"shape\"]\n",
    "                break\n",
    "    else:\n",
    "        widget = result_arr\n",
    "        if widget[\"id\"] == widget_id:\n",
    "            shape = widget[\"shape\"]\n",
    "    if shape is not None:\n",
    "        shape = re.sub( r\"^.*?\\|\", \"\", shape )\n",
    "        shape = re.sub( r\"__SPLTE__$\", \"\", shape )\n",
    "    return shape"
   ]
  },
  {
   "cell_type": "code",
   "execution_count": null,
   "metadata": {},
   "outputs": [],
   "source": [
    "response = g_discovery.query( project_id=g_discovery_proj_id, \n",
    "                              query = \"sticky_arr.text:Turkey bear\",\n",
    "                              passages = { \"fields\" : [ \"sticky_arr.text\" ] }\n",
    "                            ).get_result()\n",
    "\n",
    "print( json.dumps( formatResults( response[\"results\"] ), indent=3 ) )"
   ]
  },
  {
   "cell_type": "code",
   "execution_count": null,
   "metadata": {},
   "outputs": [],
   "source": []
  },
  {
   "cell_type": "code",
   "execution_count": null,
   "metadata": {},
   "outputs": [],
   "source": []
  }
 ],
 "metadata": {
  "kernelspec": {
   "display_name": "Python 3.10",
   "language": "python",
   "name": "python3"
  },
  "language_info": {
   "codemirror_mode": {
    "name": "ipython",
    "version": 3
   },
   "file_extension": ".py",
   "mimetype": "text/x-python",
   "name": "python",
   "nbconvert_exporter": "python",
   "pygments_lexer": "ipython3",
   "version": "3.10.6"
  }
 },
 "nbformat": 4,
 "nbformat_minor": 1
}
