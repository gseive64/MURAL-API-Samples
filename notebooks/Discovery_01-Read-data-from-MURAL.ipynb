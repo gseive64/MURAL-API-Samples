{
 "cells": [
  {
   "cell_type": "markdown",
   "metadata": {},
   "source": [
    "# Table of contents\n",
    "\n",
    "<ol style=\"list-style: none; margin: 20px 0px 0px 0px; padding: 0px\">\n",
    "<li style=\"margin: 0px 0px 3px 0px;\"><b>Step 1:</b> Set your MURAL OAuth token</li>\n",
    "<li style=\"margin: 0px 0px 3px 0px;\"><b>Step 2:</b> Set your MURAL workspace details</li>\n",
    "<li style=\"margin: 0px 0px 3px 0px;\"><b>Step 3:</b> Get rooms details</li>\n",
    "<li style=\"margin: 0px 0px 3px 0px;\"><b>Step 4:</b> Get murals metadata</li>\n",
    "<li style=\"margin: 0px 0px 3px 0px;\"><b>Step 5:</b> Get widget details for every mural</li>\n",
    "<li style=\"margin: 0px 0px 3px 0px;\"><b>Step 6:</b> Format data into \"documents\" array</li>\n",
    "<li style=\"margin: 0px 0px 3px 0px;\"><b>Step 7:</b> Save documents array as a project asset</li>\n",
    "</ol>"
   ]
  },
  {
   "cell_type": "markdown",
   "metadata": {},
   "source": [
    "## Step 1: Set your MURAL OAuth token\n",
    "\n",
    "You must get an OAuth token by using OAuth 2.0.  For example, see: [Setting up OAuth 2.0 in Postman](https://developers.mural.co/public/docs/testing-with-postman#setting-up-oauth-20-in-postman)"
   ]
  },
  {
   "cell_type": "code",
   "execution_count": null,
   "metadata": {},
   "outputs": [],
   "source": [
    "g_auth_token = \"\""
   ]
  },
  {
   "cell_type": "code",
   "execution_count": null,
   "metadata": {},
   "outputs": [],
   "source": []
  },
  {
   "cell_type": "markdown",
   "metadata": {},
   "source": [
    "## Step 2: Set your MURAL workspace details\n",
    "\n",
    "We need the name and ID of the workspace you want to search.\n",
    "\n",
    "<b>Workspace name</b>\n",
    "\n",
    "You can copy the name of the workspace right from the MURAL GUI.\n",
    "\n",
    "<b>workspace ID</b>\n",
    "\n",
    "You can get the workspace ID from your browser URL.\n",
    "\n",
    "When you are in the Home page of your workspace, the URL in your browser looks something like this:\n",
    "```\n",
    "https://app.mural.co/t/<workspace_id>/home\n",
    "```\n",
    "\n",
    "What you need to pass to the MURAL API is just after the `/t/` and before the `/home`.\n",
    "\n",
    "For example, if you have a workspace with this url:\n",
    "```\n",
    "https://app.mural.co/t/teamideas1234/home\n",
    "```\n",
    "\n",
    "Then, the workspace ID is: teamideas1234"
   ]
  },
  {
   "cell_type": "code",
   "execution_count": null,
   "metadata": {},
   "outputs": [],
   "source": [
    "g_workspace_name = \"\"\n",
    "g_workspace_id = \"\""
   ]
  },
  {
   "cell_type": "code",
   "execution_count": null,
   "metadata": {},
   "outputs": [],
   "source": []
  },
  {
   "cell_type": "markdown",
   "metadata": {},
   "source": [
    "## Step 3: Get rooms details\n",
    "\n",
    "Use the MURAL API to collect details about any rooms in your workspace."
   ]
  },
  {
   "cell_type": "code",
   "execution_count": null,
   "metadata": {},
   "outputs": [],
   "source": [
    "import requests\n",
    "import json\n",
    "import re\n",
    "\n",
    "def listRoomsInWorkspace( auth_token, workspace_id ):\n",
    "    rooms_json = listRoomsInWorkspace_recurse( auth_token, workspace_id, None, [] )\n",
    "    return formatRoomResults( rooms_json )\n",
    "    \n",
    "def listRoomsInWorkspace_recurse( auth_token, workspace_id, next_token, prev_results ):\n",
    "    # https://developers.mural.co/public/reference/getworkspacerooms\n",
    "    url = \"https://app.mural.co/api/public/v1/workspaces/\" + workspace_id + \"/rooms?limit=100\"\n",
    "    if next_token is not None:\n",
    "        url += \"&next=\" + next_token\n",
    "    headers = { \"Accept\"        : \"application/json\", \n",
    "                \"Content-Type\"  : \"application/json\", \n",
    "                \"Authorization\" : \"Bearer \" + auth_token }\n",
    "    response = requests.request( \"GET\", url, headers = headers )\n",
    "    response_json = json.loads( response.text )\n",
    "    msg = \"\"\n",
    "    if \"code\" in response_json:\n",
    "        msg += response_json[\"code\"] + \" \"\n",
    "    if \"message\" in response_json:\n",
    "        msg += response_json[\"message\"]\n",
    "    if msg != \"\":\n",
    "        print( msg )\n",
    "        return prev_results\n",
    "    if ( response_json is None ) or ( \"value\" not in response_json ) or ( response_json[\"value\"] is None ):\n",
    "        return prev_results\n",
    "    prev_results += response_json[\"value\"]\n",
    "    if ( \"next\" in response_json ) and ( response_json[\"next\"] is not None ) and ( re.match( r\"\\S\", response_json[\"next\"] ) ):\n",
    "        #print( url )\n",
    "        return listRoomsInWorkspace_recurse( auth_token, workspace_id, response_json[\"next\"], prev_results )\n",
    "    return prev_results\n",
    "\n",
    "def formatRoomResults( rooms_json ):\n",
    "    formatted_results = {}\n",
    "    if rooms_json is not None:\n",
    "        for room in rooms_json:\n",
    "            formatted_results[ room[\"id\"] ] = room[\"name\"]\n",
    "    return formatted_results"
   ]
  },
  {
   "cell_type": "code",
   "execution_count": null,
   "metadata": {},
   "outputs": [],
   "source": [
    "g_rooms = listRoomsInWorkspace( g_auth_token, g_workspace_id )\n",
    "print( json.dumps( g_rooms, indent=3 ) )"
   ]
  },
  {
   "cell_type": "code",
   "execution_count": null,
   "metadata": {},
   "outputs": [],
   "source": []
  },
  {
   "cell_type": "markdown",
   "metadata": {},
   "source": [
    "## Step 4: Get murals metadata\n",
    "\n",
    "Use the MURAL API to get metadata about every mural in the workspace."
   ]
  },
  {
   "cell_type": "code",
   "execution_count": null,
   "metadata": {},
   "outputs": [],
   "source": [
    "def listMuralsInWorkspace( auth_token, workspace_id ):\n",
    "    murals_json = listMuralsInWorkspace_recurse( auth_token, workspace_id, None, [] )\n",
    "    return formatMuralsResults( murals_json )\n",
    "    \n",
    "def listMuralsInWorkspace_recurse( auth_token, workspace_id, next_token, prev_results ):\n",
    "    # https://developers.mural.co/public/reference/getworkspacemurals\n",
    "    url = \"https://app.mural.co/api/public/v1/workspaces/\" + workspace_id + \"/murals?limit=100\"\n",
    "    if next_token is not None:\n",
    "        url += \"&next=\" + next_token\n",
    "    headers = { \"Accept\"        : \"application/json\", \n",
    "                \"Content-Type\"  : \"application/json\", \n",
    "                \"Authorization\" : \"Bearer \" + auth_token }\n",
    "    response = requests.request( \"GET\", url, headers = headers )\n",
    "    response_json = json.loads( response.text )\n",
    "    msg = \"\"\n",
    "    if \"code\" in response_json:\n",
    "        msg += response_json[\"code\"] + \" \"\n",
    "    if \"message\" in response_json:\n",
    "        msg += response_json[\"message\"]\n",
    "    if msg != \"\":\n",
    "        print( msg )\n",
    "        return prev_results\n",
    "    if ( response_json is None ) or ( \"value\" not in response_json ) or ( response_json[\"value\"] is None ):\n",
    "        return prev_results\n",
    "    prev_results += response_json[\"value\"]\n",
    "    if ( \"next\" in response_json ) and ( response_json[\"next\"] is not None ) and ( re.match( r\"\\S\", response_json[\"next\"] ) ):\n",
    "        print( url )\n",
    "        return listMuralsInWorkspace_recurse( auth_token, workspace_id, response_json[\"next\"], prev_results )\n",
    "    return prev_results\n",
    "\n",
    "def formatMuralsResults( murals_json ):\n",
    "    murals_arr = []\n",
    "    if murals_json is not None:\n",
    "        for mural in murals_json:\n",
    "            murals_arr.append( { \"id\"         : mural[\"id\"],\n",
    "                                 \"title\"      : mural[\"title\"],\n",
    "                                 \"room\"       : { \"id\" : mural[\"roomId\"], \"name\" : \"\" },\n",
    "                                 \"creator\"    : mural[\"createdBy\"][\"email\"],\n",
    "                                 \"created\"    : mural[\"createdOn\"],\n",
    "                                 \"text_arr\"   : [],\n",
    "                                 \"sticky_arr\" : [],\n",
    "                                 \"shape_arr\"  : [],\n",
    "                                 \"link\"       : mural[\"visitorsSettings\"][\"link\"],\n",
    "                                 \"thumbnail\"  : mural[\"thumbnailUrl\"],\n",
    "                                 \"workspace_name\" : g_workspace_name } )\n",
    "    return murals_arr"
   ]
  },
  {
   "cell_type": "code",
   "execution_count": null,
   "metadata": {},
   "outputs": [],
   "source": [
    "g_murals = listMuralsInWorkspace( g_auth_token, g_workspace_id )\n",
    "print( json.dumps( g_murals[0], indent=3 ) )"
   ]
  },
  {
   "cell_type": "code",
   "execution_count": null,
   "metadata": {},
   "outputs": [],
   "source": []
  },
  {
   "cell_type": "markdown",
   "metadata": {},
   "source": [
    "## Step 5: Get widget details for every mural\n",
    "\n",
    "Use the MURAL API to get widget details for every mural in the workspace."
   ]
  },
  {
   "cell_type": "code",
   "execution_count": null,
   "metadata": {},
   "outputs": [],
   "source": [
    "def listWidgets( auth_token, mural_id ):\n",
    "    widgets_json = listWidgets_recurse( auth_token, mural_id, None, [] )\n",
    "    return widgets_json, formatWidgetsResults( widgets_json )\n",
    "\n",
    "def listWidgets_recurse( auth_token, mural_id, next_token, prev_results ):\n",
    "    # https://developers.mural.co/public/reference/getmuralwidgets\n",
    "    url = \"https://app.mural.co/api/public/v1/murals/\" + mural_id + \"/widgets\"\n",
    "    if next_token is not None:\n",
    "        url += \"&next=\" + next_token\n",
    "    headers = { \"Accept\": \"application/json\", \"Authorization\": \"Bearer \" + auth_token }\n",
    "    response = requests.request( \"GET\", url, headers = headers )\n",
    "    response_json = json.loads( response.text )\n",
    "    msg = \"\"\n",
    "    if \"code\" in response_json:\n",
    "        msg += response_json[\"code\"] + \" \"\n",
    "    if \"message\" in response_json:\n",
    "        msg += response_json[\"message\"]\n",
    "    if msg != \"\":\n",
    "        print( msg )\n",
    "        return prev_results\n",
    "    if ( response_json is None ) or ( \"value\" not in response_json ) or ( response_json[\"value\"] is None ):\n",
    "        return prev_results\n",
    "    prev_results += response_json[\"value\"]\n",
    "    if ( \"next\" in response_json ) and ( response_json[\"next\"] is not None ) and ( re.match( r\"\\S\", response_json[\"next\"] ) ):\n",
    "        print( url )\n",
    "        return listWidgets_recurse( auth_token, mural_id, response_json[\"next\"], prev_results )\n",
    "    return prev_results\n",
    "\n",
    "def formatWidgetsResults( widgets_json ):\n",
    "    widgets_final = { \"text_arr\" : [], \"sticky_arr\" : [], \"shape_arr\" : [] }\n",
    "    if widgets_json is not None:\n",
    "        for widget in widgets_json:\n",
    "            widget_id = widget[\"id\"]\n",
    "            widget_json = { \"id\" : widget_id, \n",
    "                            \"text\" : \"__SPLTB__\" + widget_id + \"|\" + re.sub( r\"\\<[^>]*?\\>\", \"\", cleanText( widget[\"text\"] ) ) + \"__SPLTE__\",\n",
    "                            \"backgroundColor\" : widget[\"style\"][\"backgroundColor\"]\n",
    "                          }\n",
    "            if \"sticky note\" == widget[\"type\"]:\n",
    "                widget_json[\"shape\"] = widget[\"shape\"]\n",
    "                widgets_final[\"sticky_arr\"].append( widget_json )\n",
    "            elif \"shape\" == widget[\"type\"]:\n",
    "                widget_json[\"shape\"] = widget[\"shape\"]\n",
    "                widgets_final[\"shape_arr\"].append( widget_json )\n",
    "            elif \"text\" == widget[\"type\"]:\n",
    "                widgets_final[\"text_arr\"].append( widget_json )\n",
    "    return widgets_final\n",
    "\n",
    "def cleanText( txt_in ):\n",
    "    txt_out = re.sub( r\"\\<[^\\>]+?\\>\", \"\", txt_in )\n",
    "    txt_out = re.sub( r\"\\s+\", \" \", txt_out )\n",
    "    txt_out = re.sub( r\"^\\s+\", \"\", txt_out )\n",
    "    txt_out = re.sub( r\"\\s+$\", \"\", txt_out )\n",
    "    return txt_out"
   ]
  },
  {
   "cell_type": "code",
   "execution_count": null,
   "metadata": {},
   "outputs": [],
   "source": [
    "# Test the function\n",
    "widgets_raw, widgets_formatted = listWidgets( g_auth_token, g_murals[0][\"id\"] )\n",
    "print( json.dumps( widgets_formatted, indent=3 ) )"
   ]
  },
  {
   "cell_type": "code",
   "execution_count": null,
   "metadata": {},
   "outputs": [],
   "source": []
  },
  {
   "cell_type": "markdown",
   "metadata": {},
   "source": [
    "## Step 6: Format data into \"documents\" array\n",
    "\n",
    "Each mural will be one _document_ (JSON format) in Watson Discovery."
   ]
  },
  {
   "cell_type": "code",
   "execution_count": null,
   "metadata": {},
   "outputs": [],
   "source": [
    "def createDocumentsArr( auth_token, murals_arr, rooms_json ):\n",
    "    documents_arr = []\n",
    "    for mural in murals_arr:\n",
    "        for room_id in rooms_json.keys():\n",
    "            if room_id == mural[\"room\"][\"id\"]:\n",
    "                mural[\"room\"][\"name\"] = rooms_json[ room_id ]\n",
    "        widgets_raw, widgets_formatted = listWidgets( auth_token, mural[\"id\"] )\n",
    "        mural[\"text_arr\"]   = widgets_formatted[\"text_arr\"]\n",
    "        mural[\"sticky_arr\"] = widgets_formatted[\"sticky_arr\"]\n",
    "        mural[\"shape_arr\"]  = widgets_formatted[\"shape_arr\"]\n",
    "        documents_arr.append( mural )\n",
    "    return documents_arr"
   ]
  },
  {
   "cell_type": "code",
   "execution_count": null,
   "metadata": {},
   "outputs": [],
   "source": [
    "g_documents_arr = createDocumentsArr( g_auth_token, g_murals, g_rooms )\n",
    "print( json.dumps( g_documents_arr, indent=3 ) )"
   ]
  },
  {
   "cell_type": "code",
   "execution_count": null,
   "metadata": {},
   "outputs": [],
   "source": []
  },
  {
   "cell_type": "markdown",
   "metadata": {},
   "source": [
    "## Step 7: Save documents array as a project asset\n",
    "\n",
    "Save the documents array as a JSON file in the Watson Studio project assets.\n",
    "\n",
    "To be able to easily save files as assets in the project, you need to create a project token and add it to your notebook.\n",
    "\n",
    "Follow the steps in the section titled \"Use the library\" in this topic: [Using project-lib for Python](https://dataplatform.cloud.ibm.com/docs/content/wsj/analyze-data/project-lib-python.html?context=cpdaas&audience=wdp)\n",
    "\n",
    "**The project token is added in the very first cell at the top of the notebook. Don't forget to scroll up and run that cell.**\n",
    "\n",
    "(If you forget to run the inserted cell, you'll see the error name 'project' is not defined when you try to run the next cell below.)"
   ]
  },
  {
   "cell_type": "code",
   "execution_count": null,
   "metadata": {},
   "outputs": [],
   "source": [
    "project.save_data( \"documents_arr.json\", json.dumps( g_documents_arr, indent=3 ), set_project_asset=True, overwrite=True )"
   ]
  },
  {
   "cell_type": "code",
   "execution_count": null,
   "metadata": {},
   "outputs": [],
   "source": []
  },
  {
   "cell_type": "code",
   "execution_count": null,
   "metadata": {},
   "outputs": [],
   "source": []
  }
 ],
 "metadata": {
  "kernelspec": {
   "display_name": "Python 3.10",
   "language": "python",
   "name": "python3"
  },
  "language_info": {
   "codemirror_mode": {
    "name": "ipython",
    "version": 3
   },
   "file_extension": ".py",
   "mimetype": "text/x-python",
   "name": "python",
   "nbconvert_exporter": "python",
   "pygments_lexer": "ipython3",
   "version": "3.10.6"
  }
 },
 "nbformat": 4,
 "nbformat_minor": 1
}
