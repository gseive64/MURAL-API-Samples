{
 "cells": [
  {
   "cell_type": "code",
   "execution_count": null,
   "metadata": {
    "collapsed": true
   },
   "outputs": [],
   "source": []
  },
  {
   "cell_type": "markdown",
   "metadata": {},
   "source": [
    "# Translating sticky notes\n",
    "\n",
    "This notebook demonstrates how to translate sticky contents using the [IBM Watson Language Translator](https://cloud.ibm.com/catalog/services/language-translator).\n",
    "\n",
    "The sample mural for this notebook is here: [Sample mural](https://github.com/spackows/MURAL-API-Samples/blob/main/murals/sample-10_translate.json)\n",
    "\n",
    "You can create that mural using the notebook here: [Mural creating notebook](https://github.com/spackows/MURAL-API-Samples/blob/main/notebooks/sample-01_create-a-mural.ipynb)\n",
    "\n",
    "The sample mural for this notebook starts out looking like the following image:\n",
    "\n",
    "<img src=\"https://raw.githubusercontent.com/spackows/MURAL-API-Samples/main/images/sample-04_sentiment.png\" width=\"50%\" title=\"Image of a mural\" />"
   ]
  },
  {
   "cell_type": "code",
   "execution_count": null,
   "metadata": {},
   "outputs": [],
   "source": []
  },
  {
   "cell_type": "code",
   "execution_count": null,
   "metadata": {},
   "outputs": [],
   "source": []
  },
  {
   "cell_type": "markdown",
   "metadata": {},
   "source": [
    "## Step 1: Collect the mural ID\n",
    "\n",
    "You can find the mural ID in the url of a mural.\n",
    "\n",
    "Mural urls look something like this:\n",
    "\n",
    "```\n",
    "https://app.mural.co/t/<workspace>/m/<workspace>/<id>/...\n",
    "```\n",
    "\n",
    "What you need to pass to the MURAL API is just after the `/m/`: the \\<workspace> and the \\<id>.  And you need to join then with a period.\n",
    "\n",
    "For example, if you have a mural with this url:\n",
    "\n",
    "```\n",
    "https://app.mural.co/t/teamideas1234/m/teamideas1234/1234567890123/...\n",
    "```\n",
    "\n",
    "Then, the mural ID is: `teamideas1234.1234567890123`"
   ]
  },
  {
   "cell_type": "code",
   "execution_count": 4,
   "metadata": {},
   "outputs": [],
   "source": [
    "g_mural_id = \"\""
   ]
  },
  {
   "cell_type": "code",
   "execution_count": null,
   "metadata": {},
   "outputs": [],
   "source": []
  },
  {
   "cell_type": "markdown",
   "metadata": {},
   "source": [
    "## Step 2: Collect your OAuth token"
   ]
  },
  {
   "cell_type": "code",
   "execution_count": 129,
   "metadata": {},
   "outputs": [],
   "source": [
    "g_auth_token = \"\""
   ]
  },
  {
   "cell_type": "code",
   "execution_count": null,
   "metadata": {},
   "outputs": [],
   "source": []
  },
  {
   "cell_type": "markdown",
   "metadata": {},
   "source": [
    "## Step 3: Read the widgets from the mural\n",
    "\n",
    "In this sample, it's assumed that all widgets in the mural are sticky notes."
   ]
  },
  {
   "cell_type": "code",
   "execution_count": 6,
   "metadata": {},
   "outputs": [],
   "source": [
    "import requests\n",
    "import json\n",
    "\n",
    "def listWidgets( mural_id, auth_token ):\n",
    "    # https://developers.mural.co/public/reference/getmuralwidgets\n",
    "    url = \"https://app.mural.co/api/public/v1/murals/\" + mural_id + \"/widgets\"\n",
    "    headers = { \"Accept\": \"application/json\", \"Authorization\": \"Bearer \" + auth_token }\n",
    "    response = requests.request( \"GET\", url, headers = headers )\n",
    "    response_json = json.loads( response.text )\n",
    "    msg = \"\"\n",
    "    if \"code\" in response_json:\n",
    "        msg += response_json[\"code\"] + \" \"\n",
    "    if \"message\" in response_json:\n",
    "        msg += response_json[\"message\"]\n",
    "    if msg != \"\":\n",
    "        print( msg )\n",
    "        return None\n",
    "    if \"value\" not in response_json:\n",
    "        print( \"No value returned\" )\n",
    "        return None\n",
    "    return response_json[\"value\"]"
   ]
  },
  {
   "cell_type": "code",
   "execution_count": 146,
   "metadata": {},
   "outputs": [
    {
     "name": "stdout",
     "output_type": "stream",
     "text": [
      "I love winter!\n",
      "I don't do well in the heat\n",
      "Fall is colourful\n",
      "Spring makes me feel optimistic\n",
      "I hate the cold\n",
      "Fall leaves are beautiful\n",
      "Nothing is as soothing as drinking hot chocolate after being out in the cold\n",
      "Swimming in the summer makes me so happy\n",
      "I feel sad watching everything die off in the fall\n",
      "summer is for relaxing\n",
      "spring and fall are short\n",
      "seasons bring a change of pace\n",
      "We go south for the winter every year\n"
     ]
    }
   ],
   "source": [
    "widgets_arr = listWidgets( g_mural_id, g_auth_token )\n",
    "for widget in widgets_arr:\n",
    "    print( widget[\"text\"] )"
   ]
  },
  {
   "cell_type": "code",
   "execution_count": null,
   "metadata": {},
   "outputs": [],
   "source": []
  },
  {
   "cell_type": "markdown",
   "metadata": {},
   "source": [
    "## Step 4: Translate sticky-note text"
   ]
  },
  {
   "cell_type": "markdown",
   "metadata": {},
   "source": [
    "### Prerequisites \n",
    "\n",
    "1. Create a \"Lite\" (free) instance of the IBM Watson Language Translator service: [IBM catalog page](https://cloud.ibm.com/catalog/services/language-translator)\n",
    "\n",
    "2. Collect the \"API key\" and \"URL\" from the the **Manage** page for your service instance.\n",
    "\n",
    "See: [Getting started with Language Translator](https://cloud.ibm.com/docs/language-translator?topic=language-translator-gettingstarted)"
   ]
  },
  {
   "cell_type": "code",
   "execution_count": 9,
   "metadata": {},
   "outputs": [],
   "source": [
    "translator_apikey = \"\"\n",
    "translator_url = \"\""
   ]
  },
  {
   "cell_type": "code",
   "execution_count": null,
   "metadata": {},
   "outputs": [],
   "source": [
    "!pip install ibm-watson"
   ]
  },
  {
   "cell_type": "code",
   "execution_count": 12,
   "metadata": {},
   "outputs": [],
   "source": [
    "# https://cloud.ibm.com/apidocs/language-translator?code=python#authentication\n",
    "\n",
    "from ibm_watson import LanguageTranslatorV3\n",
    "from ibm_cloud_sdk_core.authenticators import IAMAuthenticator\n",
    "\n",
    "authenticator = IAMAuthenticator( translator_apikey )\n",
    "language_translator = LanguageTranslatorV3(\n",
    "    version=\"2018-05-01\",\n",
    "    authenticator=authenticator\n",
    ")\n",
    "\n",
    "language_translator.set_service_url( translator_url )"
   ]
  },
  {
   "cell_type": "markdown",
   "metadata": {},
   "source": [
    "Translate one message just to see what the translator returns:"
   ]
  },
  {
   "cell_type": "code",
   "execution_count": 155,
   "metadata": {},
   "outputs": [
    {
     "name": "stdout",
     "output_type": "stream",
     "text": [
      "== English:\n",
      "I love winter!\n",
      "\n",
      "== Translator JSON result:\n",
      "{\n",
      "  \"translations\": [\n",
      "    {\n",
      "      \"translation\": \"J'adore l'hiver!\"\n",
      "    }\n",
      "  ],\n",
      "  \"word_count\": 4,\n",
      "  \"character_count\": 14\n",
      "}\n"
     ]
    }
   ],
   "source": [
    "# https://cloud.ibm.com/apidocs/language-translator?code=python#translate\n",
    "\n",
    "txt = widgets_arr[0][\"text\"]\n",
    "translation = language_translator.translate( text = txt, model_id = \"en-fr-CA\" ).get_result()\n",
    "print( \"== English:\\n\" + txt + \"\\n\\n== Translator JSON result:\\n\" + json.dumps( translation, indent=2, ensure_ascii=False) )"
   ]
  },
  {
   "cell_type": "markdown",
   "metadata": {},
   "source": [
    "Now, translate the text from all the sticky notes:"
   ]
  },
  {
   "cell_type": "code",
   "execution_count": 147,
   "metadata": {},
   "outputs": [
    {
     "name": "stdout",
     "output_type": "stream",
     "text": [
      "I love winter!\n",
      "J'adore l'hiver!\n",
      "\n",
      "I don't do well in the heat\n",
      "Je ne fais pas bien dans la chaleur\n",
      "\n",
      "Fall is colourful\n",
      "L'automne est coloré\n",
      "\n",
      "Spring makes me feel optimistic\n",
      "Le printemps me rend optimiste\n",
      "\n",
      "I hate the cold\n",
      "Je déteste le froid\n",
      "\n",
      "Fall leaves are beautiful\n",
      "Les feuilles d'automne sont belles\n",
      "\n",
      "Nothing is as soothing as drinking hot chocolate after being out in the cold\n",
      "Rien n'est aussi apaisant que de boire du chocolat chaud après avoir été dans le froid\n",
      "\n",
      "Swimming in the summer makes me so happy\n",
      "Nager en été me rend si heureuse\n",
      "\n",
      "I feel sad watching everything die off in the fall\n",
      "Je suis triste de voir tout mourir à l'automne\n",
      "\n",
      "summer is for relaxing\n",
      "l'été est pour la détente\n",
      "\n",
      "spring and fall are short\n",
      "le printemps et l'automne sont courts\n",
      "\n",
      "seasons bring a change of pace\n",
      "les saisons apportent un changement de rythme\n",
      "\n",
      "We go south for the winter every year\n",
      "Nous allons au sud pour l'hiver chaque année\n",
      "\n"
     ]
    }
   ],
   "source": [
    "for widget in widgets_arr:\n",
    "    translation_json = language_translator.translate( text = widget[\"text\"], model_id = \"en-fr-CA\" ).get_result()\n",
    "    widget[\"text_translated\"] = translation_json[\"translations\"][0][\"translation\"]\n",
    "    print( widget[\"text\"] + \"\\n\" + widget[\"text_translated\"] + \"\\n\" )"
   ]
  },
  {
   "cell_type": "markdown",
   "metadata": {},
   "source": [
    "## Step 5: Post translated sticky notes\n",
    "\n",
    "For each English sticky note, post a translated version."
   ]
  },
  {
   "cell_type": "markdown",
   "metadata": {},
   "source": [
    "### 5.1 Define some helper functions"
   ]
  },
  {
   "cell_type": "code",
   "execution_count": 18,
   "metadata": {},
   "outputs": [],
   "source": [
    "def getTranslatedText( txt_in ):\n",
    "    translation_json = language_translator.translate( text = txt_in, model_id = \"en-fr-CA\" ).get_result()\n",
    "    return translation_json[\"translations\"][0][\"translation\"]\n",
    "\n",
    "def getTranslatedStickyJSON( widget, margin, translation_expansion ):\n",
    "    translated_sticky_json = { \"height\" : widget[\"height\"],\n",
    "                               \"width\"  : widget[\"width\"] + translation_expansion,\n",
    "                               \"x\"      : widget[\"x\"] + widget[\"width\"] + margin,\n",
    "                               \"y\"      : widget[\"y\"] + 4*margin,\n",
    "                               \"shape\"  : \"rectangle\",\n",
    "                               \"style\"  : widget[\"style\"],\n",
    "                               \"text\"   : getTranslatedText( widget[\"text\"] ) }\n",
    "    return translated_sticky_json"
   ]
  },
  {
   "cell_type": "code",
   "execution_count": 68,
   "metadata": {},
   "outputs": [],
   "source": [
    "def moveSticky( sticky_id, x, y, mural_id, auth_token ):\n",
    "    # https://developers.mural.co/public/reference/updatestickynote\n",
    "    url = \"https://app.mural.co/api/public/v1/murals/\" + mural_id + \"/widgets/sticky-note/\" + sticky_id\n",
    "    headers = { \"Content-Type\" : \"application/json\", \"Accept\" : \"vnd.mural.preview\", \"Authorization\" : \"Bearer \" + auth_token }\n",
    "    data = json.dumps( { \"x\" : x, \"y\" : y } )\n",
    "    response = requests.request( \"PATCH\", url, headers=headers, data=data )\n",
    "    response_json = json.loads( response.text )\n",
    "    msg = \"\"\n",
    "    if \"code\" in response_json:\n",
    "        msg += response_json[\"code\"] + \" \"\n",
    "    if \"message\" in response_json:\n",
    "        msg += response_json[\"message\"]\n",
    "    if msg != \"\":\n",
    "        print( msg )\n",
    "        \n",
    "def shiftEverybodyElse( widgets_arr, widget_index, margin, translation_expansion, mural_id, auth_token ):\n",
    "    base_widget = widgets_arr[ widget_index ]\n",
    "    for i in range( widget_index + 1, len( widgets_arr ) ):\n",
    "        widget = widgets_arr[i]\n",
    "        x_org = widget[\"x\"]\n",
    "        y_org = widget[\"y\"]\n",
    "        widget[\"x\"] += 0.5*base_widget[\"width\"] + translation_expansion + margin\n",
    "        if widget[\"y\"] > ( base_widget[\"y\"] + base_widget[\"height\"] ):\n",
    "            widget[\"y\"] += translation_expansion\n",
    "        moveSticky( widget[\"id\"], widget[\"x\"], widget[\"y\"], mural_id, auth_token )\n",
    "    return widgets_arr"
   ]
  },
  {
   "cell_type": "code",
   "execution_count": 63,
   "metadata": {},
   "outputs": [],
   "source": [
    "def putSticky( sticky_json, mural_id, auth_token ):\n",
    "    # https://developers.mural.co/public/reference/createstickynote\n",
    "    url = \"https://app.mural.co/api/public/v1/murals/\" + mural_id + \"/widgets/sticky-note\"\n",
    "    headers = { #\"Accept\"        : \"application/json\", \n",
    "                \"Accept\"        : \"vnd.mural.preview\",\n",
    "                \"Content-Type\"  : \"application/json\", \n",
    "                \"Authorization\" : \"Bearer \" + auth_token }\n",
    "    response = requests.request( \"POST\", url, headers = headers, json = sticky_json )\n",
    "    response_json = json.loads( response.text )\n",
    "    msg = \"\"\n",
    "    if \"code\" in response_json:\n",
    "        msg += response_json[\"code\"] + \" \"\n",
    "    if \"message\" in response_json:\n",
    "        msg += response_json[\"message\"]\n",
    "    if msg != \"\":\n",
    "        print( \"[ \" + sticky_json[\"text\"] + \" ] \" + msg )\n",
    "    else:\n",
    "        print( \"[ \" + sticky_json[\"text\"] + \" ] Success\" )"
   ]
  },
  {
   "cell_type": "code",
   "execution_count": 128,
   "metadata": {},
   "outputs": [],
   "source": [
    "def addTranslatedStickies( widgets_arr, mural_id, auth_token ):\n",
    "    widgets_arr_ordered_L2R = widgets_arr.copy()\n",
    "    widgets_arr_ordered_L2R.sort( key=lambda widget: widget[\"x\"] )\n",
    "    margin = 5\n",
    "    translation_expansion = 20\n",
    "    for i in range( len( widgets_arr_ordered_L2R ) ):\n",
    "        widget = widgets_arr_ordered_L2R[i]\n",
    "        translated_sticky_json = getTranslatedStickyJSON( widget, margin, translation_expansion )\n",
    "        widgets_arr_ordered_L2R = shiftEverybodyElse( widgets_arr_ordered_L2R, i, margin, translation_expansion, mural_id, auth_token )\n",
    "        putSticky( translated_sticky_json, mural_id, auth_token )"
   ]
  },
  {
   "cell_type": "markdown",
   "metadata": {},
   "source": [
    "### 5.2 Post the translated sticky notes"
   ]
  },
  {
   "cell_type": "code",
   "execution_count": 149,
   "metadata": {},
   "outputs": [
    {
     "name": "stdout",
     "output_type": "stream",
     "text": [
      "[ Nous allons au sud pour l'hiver chaque année ] Success\n",
      "[ Les feuilles d'automne sont belles ] Success\n",
      "[ J'adore l'hiver! ] Success\n",
      "[ Rien n'est aussi apaisant que de boire du chocolat chaud après avoir été dans le froid ] Success\n",
      "[ L'automne est coloré ] Success\n",
      "[ le printemps et l'automne sont courts ] Success\n",
      "[ Je ne fais pas bien dans la chaleur ] Success\n",
      "[ Le printemps me rend optimiste ] Success\n",
      "[ Je suis triste de voir tout mourir à l'automne ] Success\n",
      "[ Je déteste le froid ] Success\n",
      "[ Nager en été me rend si heureuse ] Success\n",
      "[ les saisons apportent un changement de rythme ] Success\n",
      "[ l'été est pour la détente ] Success\n"
     ]
    }
   ],
   "source": [
    "import time\n",
    "time.sleep(5)\n",
    "\n",
    "# Quick!  After running this cell, switch to your browser \n",
    "# tab where the mural is to see the stickies move\n",
    "# ...\n",
    "addTranslatedStickies( widgets_arr, g_mural_id, g_auth_token )"
   ]
  },
  {
   "cell_type": "markdown",
   "metadata": {},
   "source": [
    "This is what you should see happen:\n",
    "\n",
    "<p>&nbsp;</p>\n",
    "\n",
    "<img src=\"https://raw.githubusercontent.com/spackows/MURAL-API-Samples/main/images/sample-10_translate.gif\" width=\"70%\" title=\"Image of a mural\" />"
   ]
  },
  {
   "cell_type": "code",
   "execution_count": null,
   "metadata": {},
   "outputs": [],
   "source": []
  }
 ],
 "metadata": {
  "kernelspec": {
   "display_name": "Python 3.9",
   "language": "python",
   "name": "python3"
  },
  "language_info": {
   "codemirror_mode": {
    "name": "ipython",
    "version": 3
   },
   "file_extension": ".py",
   "mimetype": "text/x-python",
   "name": "python",
   "nbconvert_exporter": "python",
   "pygments_lexer": "ipython3",
   "version": "3.9.12"
  }
 },
 "nbformat": 4,
 "nbformat_minor": 1
}
