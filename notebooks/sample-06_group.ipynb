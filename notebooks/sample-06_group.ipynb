{
 "cells": [
  {
   "cell_type": "markdown",
   "metadata": {},
   "source": [
    "# Group sticky notes by color\n",
    "\n",
    "This notebook demonstrates how to move sticky notes into groups, based on color.\n",
    "\n",
    "The sample mural for this notebook is here: [Sample mural](https://github.com/spackows/MURAL-API-Samples/blob/main/murals/sample-06_group.json)\n",
    "\n",
    "You can create that mural using the notebook here: [Mural creating notebook](https://github.com/spackows/MURAL-API-Samples/blob/main/notebooks/sample-01_create-a-mural.ipynb)\n",
    "\n",
    "The sample mural for this notebook (before moving the sticky notes) looks like the following image:\n",
    "\n",
    "<img src=\"https://raw.githubusercontent.com/spackows/MURAL-API-Samples/main/images/sample-06_group.png\" width=\"50%\" title=\"Image of a mural\" />"
   ]
  },
  {
   "cell_type": "code",
   "execution_count": null,
   "metadata": {},
   "outputs": [],
   "source": []
  },
  {
   "cell_type": "code",
   "execution_count": null,
   "metadata": {},
   "outputs": [],
   "source": []
  },
  {
   "cell_type": "markdown",
   "metadata": {},
   "source": [
    "## Step 1: Collect the mural ID\n",
    "\n",
    "You can find the mural ID in the url of a mural.\n",
    "\n",
    "Mural urls look something like this:\n",
    "\n",
    "```\n",
    "https://app.mural.co/t/<workspace>/m/<workspace>/<id>/...\n",
    "```\n",
    "\n",
    "What you need to pass to the MURAL API is just after the `/m/`: the \\<workspace> and the \\<id>.  And you need to join then with a period.\n",
    "\n",
    "For example, if you have a mural with this url:\n",
    "\n",
    "```\n",
    "https://app.mural.co/t/teamideas1234/m/teamideas1234/1234567890123/...\n",
    "```\n",
    "\n",
    "Then, the mural ID is: `teamideas1234.1234567890123`"
   ]
  },
  {
   "cell_type": "code",
   "execution_count": 38,
   "metadata": {},
   "outputs": [],
   "source": [
    "g_mural_id = \"\""
   ]
  },
  {
   "cell_type": "code",
   "execution_count": null,
   "metadata": {},
   "outputs": [],
   "source": []
  },
  {
   "cell_type": "code",
   "execution_count": null,
   "metadata": {},
   "outputs": [],
   "source": []
  },
  {
   "cell_type": "markdown",
   "metadata": {},
   "source": [
    "## Step 2: Collect your OAuth token"
   ]
  },
  {
   "cell_type": "code",
   "execution_count": 39,
   "metadata": {},
   "outputs": [],
   "source": [
    "g_auth_token = \"\""
   ]
  },
  {
   "cell_type": "code",
   "execution_count": null,
   "metadata": {},
   "outputs": [],
   "source": []
  },
  {
   "cell_type": "code",
   "execution_count": null,
   "metadata": {},
   "outputs": [],
   "source": []
  },
  {
   "cell_type": "markdown",
   "metadata": {},
   "source": [
    "## Step 3: Read the widgets from the mural\n",
    "\n",
    "In this sample, some widgets in the mural are sticky notes and some are shapes - squares (rectangles, really)."
   ]
  },
  {
   "cell_type": "code",
   "execution_count": 40,
   "metadata": {},
   "outputs": [],
   "source": [
    "import requests\n",
    "import json\n",
    "\n",
    "def listWidgets( mural_id, auth_token ):\n",
    "    # https://developers.mural.co/public/reference/getmuralwidgets\n",
    "    url = \"https://app.mural.co/api/public/v1/murals/\" + mural_id + \"/widgets\"\n",
    "    headers = { \"Accept\": \"application/json\", \"Authorization\": \"Bearer \" + auth_token }\n",
    "    response = requests.request( \"GET\", url, headers = headers )\n",
    "    response_json = json.loads( response.text )\n",
    "    msg = \"\"\n",
    "    if \"code\" in response_json:\n",
    "        msg += response_json[\"code\"] + \" \"\n",
    "    if \"message\" in response_json:\n",
    "        msg += response_json[\"message\"]\n",
    "    if msg != \"\":\n",
    "        print( msg )\n",
    "        return None\n",
    "    if \"value\" not in response_json:\n",
    "        print( \"No value returned\" )\n",
    "        return None\n",
    "    return response_json[\"value\"]"
   ]
  },
  {
   "cell_type": "code",
   "execution_count": 41,
   "metadata": {},
   "outputs": [],
   "source": [
    "widgets_arr = listWidgets( g_mural_id, g_auth_token )"
   ]
  },
  {
   "cell_type": "code",
   "execution_count": 42,
   "metadata": {},
   "outputs": [
    {
     "name": "stdout",
     "output_type": "stream",
     "text": [
      "[ green  ]  I love winter!\n",
      "[ blue   ]  I don't do well in the heat\n",
      "[ orange ]  Fall is colourful\n",
      "[ green  ]  Spring makes me feel optimistic\n",
      "[ blue   ]  I hate the cold\n",
      "[ green  ]  Fall leaves are beautiful\n",
      "[ green  ]  Nothing is as soothing as drinking hot chocolate after being out in the cold\n",
      "[ green  ]  Swimming in the summer makes me so happy\n",
      "[ blue   ]  I feel sad watching everything die off in the fall\n",
      "[ green  ]  summer is for relaxing\n",
      "[ orange ]  spring and fall are shorter\n",
      "[ green  ]  seasons bring a change of pace\n",
      "[ orange ]  We go south for the winter every year\n"
     ]
    }
   ],
   "source": [
    "colors = { \"#046307FF\" : \"green\",\n",
    "           \"#FFA500FF\" : \"orange\",\n",
    "           \"#0000CDFF\" : \"blue\" }\n",
    "\n",
    "sticky_groups = { \"#046307FF\" : [],\n",
    "                  \"#FFA500FF\" : [],\n",
    "                  \"#0000CDFF\" : [] }\n",
    "\n",
    "for widget in widgets_arr:\n",
    "    if \"sticky note\" == widget[\"type\"]:\n",
    "        color = widget[\"style\"][\"backgroundColor\"]\n",
    "        print( \"[ \" + colors[ color ].ljust(6) + \" ]  \" + widget[\"text\"] )\n",
    "        sticky_groups[ color ].append( widget )"
   ]
  },
  {
   "cell_type": "code",
   "execution_count": 43,
   "metadata": {},
   "outputs": [
    {
     "name": "stdout",
     "output_type": "stream",
     "text": [
      "{\n",
      "   \"#046307FF\": {\n",
      "      \"x\": 90.07,\n",
      "      \"y\": 524.32,\n",
      "      \"width\": 731.9999420166015,\n",
      "      \"height\": 790.5568181818182\n",
      "   },\n",
      "   \"#FFA500FF\": {\n",
      "      \"x\": 923.74,\n",
      "      \"y\": 523.91,\n",
      "      \"width\": 731.9999420166015,\n",
      "      \"height\": 791.3768718927558\n",
      "   },\n",
      "   \"#0000CDFF\": {\n",
      "      \"x\": 1762.41,\n",
      "      \"y\": 522.6,\n",
      "      \"width\": 731.9999420166015,\n",
      "      \"height\": 793.9968670099433\n",
      "   }\n",
      "}\n"
     ]
    }
   ],
   "source": [
    "boxes = { \"#046307FF\" : {}, # green\n",
    "          \"#FFA500FF\" : {}, # orange\n",
    "          \"#0000CDFF\" : {}, # blue\n",
    "        }\n",
    "\n",
    "for widget in widgets_arr:\n",
    "    if \"shape\" == widget[\"type\"]:\n",
    "        boxes[ widget[\"style\"][\"strokeColor\"] ] = { \"x\" : widget[\"x\"], \"y\" : widget[\"y\"], \"width\" : widget[\"width\"], \"height\" : widget[\"height\"] }\n",
    "\n",
    "print( json.dumps( boxes, indent = 3 ) )"
   ]
  },
  {
   "cell_type": "code",
   "execution_count": null,
   "metadata": {},
   "outputs": [],
   "source": []
  },
  {
   "cell_type": "code",
   "execution_count": null,
   "metadata": {},
   "outputs": [],
   "source": []
  },
  {
   "cell_type": "markdown",
   "metadata": {},
   "source": [
    "## Step 4: Move sticky notes into the boxes by color\n",
    "\n",
    "This method puts the sticky notes into the rectangles in columns.  \n",
    "\n",
    "It's orderly with a bit of randomness to make it feel somewhat organic."
   ]
  },
  {
   "cell_type": "code",
   "execution_count": 44,
   "metadata": {},
   "outputs": [],
   "source": [
    "from random import randrange\n",
    "\n",
    "def moveSticky( sticky_id, x, y, mural_id, auth_token ):\n",
    "    url = \"https://app.mural.co/api/public/v1/murals/\" + mural_id + \"/widgets/sticky-note/\" + sticky_id\n",
    "    headers = { \"Content-Type\" : \"application/json\", \"Accept\" : \"vnd.mural.preview\", \"Authorization\" : \"Bearer \" + auth_token }\n",
    "    data = json.dumps( { \"x\" : x, \"y\" : y } )\n",
    "    response = requests.request( \"PATCH\", url, headers=headers, data=data )\n",
    "    response_json = json.loads( response.text )\n",
    "    msg = \"\"\n",
    "    if \"code\" in response_json:\n",
    "        msg += response_json[\"code\"] + \" \"\n",
    "    if \"message\" in response_json:\n",
    "        msg += response_json[\"message\"]\n",
    "    if msg != \"\":\n",
    "        print( msg )\n",
    "\n",
    "def lineUpInBox( box, stickies_arr, mural_id, auth_token ):\n",
    "    box_padding = 0.05 * box[\"height\"]\n",
    "    top_edge = box[\"y\"] + box_padding\n",
    "    left_edge = box[\"x\"] + box_padding\n",
    "    right_edge = left_edge\n",
    "    for sticky in stickies_arr:\n",
    "        sticky_margin = 0.1 * sticky[\"width\"]\n",
    "        random_range = round( 0.2 * sticky[\"width\"] )\n",
    "        if ( top_edge + sticky[\"height\"] ) > ( box[\"y\"] + box[\"height\"] - box_padding ):\n",
    "            top_edge = box[\"y\"] + box_padding\n",
    "            left_edge = right_edge\n",
    "        x = left_edge + randrange( random_range )\n",
    "        if ( x + sticky[\"width\"] ) > right_edge:\n",
    "            right_edge = x + sticky[\"width\"]\n",
    "        y = top_edge + randrange( random_range ) + sticky_margin\n",
    "        top_edge = y + sticky[\"height\"]\n",
    "        moveSticky( sticky[\"id\"], x, y, mural_id, auth_token )\n",
    "\n",
    "def lineUpInBoxes( boxes, sticky_groups, mural_id, auth_token ):\n",
    "    for color in boxes.keys():\n",
    "        box = boxes[ color ]\n",
    "        stickies_arr = sticky_groups[ color ]\n",
    "        lineUpInBox( box, stickies_arr, mural_id, auth_token )"
   ]
  },
  {
   "cell_type": "code",
   "execution_count": 26,
   "metadata": {},
   "outputs": [],
   "source": [
    "import time\n",
    "time.sleep(5)\n",
    "\n",
    "# Quick!  After running this cell, switch to your browser \n",
    "# tab where the mural is to see the stickies move\n",
    "# ...\n",
    "\n",
    "lineUpInBoxes( boxes, sticky_groups, g_mural_id, g_auth_token )"
   ]
  },
  {
   "cell_type": "code",
   "execution_count": null,
   "metadata": {},
   "outputs": [],
   "source": []
  },
  {
   "cell_type": "markdown",
   "metadata": {},
   "source": [
    "Like this:\n",
    "\n",
    "<img src=\"https://github.com/spackows/MURAL-API-Samples/blob/main/images/sample-06_group.gif?raw=true\" width=\"50%\" title=\"Sticky notes moving\" />"
   ]
  },
  {
   "cell_type": "code",
   "execution_count": null,
   "metadata": {},
   "outputs": [],
   "source": []
  },
  {
   "cell_type": "code",
   "execution_count": null,
   "metadata": {},
   "outputs": [],
   "source": []
  }
 ],
 "metadata": {
  "kernelspec": {
   "display_name": "Python 3.9",
   "language": "python",
   "name": "python3"
  },
  "language_info": {
   "codemirror_mode": {
    "name": "ipython",
    "version": 3
   },
   "file_extension": ".py",
   "mimetype": "text/x-python",
   "name": "python",
   "nbconvert_exporter": "python",
   "pygments_lexer": "ipython3",
   "version": "3.9.7"
  }
 },
 "nbformat": 4,
 "nbformat_minor": 1
}
