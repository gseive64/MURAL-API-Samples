{
 "cells": [
  {
   "cell_type": "markdown",
   "metadata": {},
   "source": [
    "*Note: To use the Watson NLP library, this notebook must be run in IBM Watson Studio with environment: \"Default Python 3.8 + Watson NLP XS (beta)\".*"
   ]
  },
  {
   "cell_type": "code",
   "execution_count": null,
   "metadata": {},
   "outputs": [],
   "source": []
  },
  {
   "cell_type": "markdown",
   "metadata": {},
   "source": [
    "# Color coding sticky notes by sentiment\n",
    "\n",
    "This notebook demonstrates how to analyze the sentiment of sticky contents using the [Watson NLP library](https://dataplatform.cloud.ibm.com/docs/content/wsj/analyze-data/watson-nlp.html).\n",
    "\n",
    "The sample mural for this notebook is here: [Sample mural](https://github.com/spackows/MURAL-API-Samples/blob/main/murals/sample-04_sentiment.json)\n",
    "\n",
    "You can create that mural using the notebook here: [Mural creating notebook](https://github.com/spackows/MURAL-API-Samples/blob/main/notebooks/sample-01_create-a-mural.ipynb)\n",
    "\n",
    "The sample mural for this notebook (before the color coding) looks like the following image:\n",
    "\n",
    "<img src=\"https://raw.githubusercontent.com/spackows/MURAL-API-Samples/main/images/sample-04_sentiment.png\" width=\"50%\" title=\"Image of a mural\" />"
   ]
  },
  {
   "cell_type": "code",
   "execution_count": null,
   "metadata": {},
   "outputs": [],
   "source": []
  },
  {
   "cell_type": "code",
   "execution_count": null,
   "metadata": {},
   "outputs": [],
   "source": []
  },
  {
   "cell_type": "markdown",
   "metadata": {},
   "source": [
    "## Step 1: Collect the mural ID\n",
    "\n",
    "You can find the mural ID in the url of a mural.\n",
    "\n",
    "Mural urls look something like this:\n",
    "\n",
    "```\n",
    "https://app.mural.co/t/<workspace>/m/<workspace>/<id>/...\n",
    "```\n",
    "\n",
    "What you need to pass to the MURAL API is just after the `/m/`: the \\<workspace> and the \\<id>.  And you need to join then with a period.\n",
    "\n",
    "For example, if you have a mural with this url:\n",
    "\n",
    "```\n",
    "https://app.mural.co/t/teamideas1234/m/teamideas1234/1234567890123/...\n",
    "```\n",
    "\n",
    "Then, the mural ID is: `teamideas1234.1234567890123`"
   ]
  },
  {
   "cell_type": "code",
   "execution_count": 13,
   "metadata": {},
   "outputs": [],
   "source": [
    "g_mural_id = \"\""
   ]
  },
  {
   "cell_type": "code",
   "execution_count": null,
   "metadata": {},
   "outputs": [],
   "source": []
  },
  {
   "cell_type": "code",
   "execution_count": null,
   "metadata": {},
   "outputs": [],
   "source": []
  },
  {
   "cell_type": "markdown",
   "metadata": {},
   "source": [
    "## Step 2: Collect your OAuth token"
   ]
  },
  {
   "cell_type": "code",
   "execution_count": 37,
   "metadata": {},
   "outputs": [],
   "source": [
    "g_auth_token = \"\""
   ]
  },
  {
   "cell_type": "code",
   "execution_count": null,
   "metadata": {},
   "outputs": [],
   "source": []
  },
  {
   "cell_type": "code",
   "execution_count": null,
   "metadata": {},
   "outputs": [],
   "source": []
  },
  {
   "cell_type": "markdown",
   "metadata": {},
   "source": [
    "## Step 3: Read the widgets from the mural\n",
    "\n",
    "In this sample, it's assumed that all widgets in the mural are sticky notes."
   ]
  },
  {
   "cell_type": "code",
   "execution_count": 15,
   "metadata": {},
   "outputs": [],
   "source": [
    "import requests\n",
    "import json\n",
    "\n",
    "def listWidgets( mural_id, auth_token ):\n",
    "    # https://developers.mural.co/public/reference/getmuralwidgets\n",
    "    url = \"https://app.mural.co/api/public/v1/murals/\" + mural_id + \"/widgets\"\n",
    "    headers = { \"Accept\": \"application/json\", \"Authorization\": \"Bearer \" + auth_token }\n",
    "    response = requests.request( \"GET\", url, headers = headers )\n",
    "    response_json = json.loads( response.text )\n",
    "    msg = \"\"\n",
    "    if \"code\" in response_json:\n",
    "        msg += response_json[\"code\"] + \" \"\n",
    "    if \"message\" in response_json:\n",
    "        msg += response_json[\"message\"]\n",
    "    if msg != \"\":\n",
    "        print( msg )\n",
    "        return None\n",
    "    if \"value\" not in response_json:\n",
    "        print( \"No value returned\" )\n",
    "        return None\n",
    "    return response_json[\"value\"]"
   ]
  },
  {
   "cell_type": "code",
   "execution_count": 16,
   "metadata": {},
   "outputs": [
    {
     "name": "stdout",
     "output_type": "stream",
     "text": [
      "I love winter!\n",
      "I don't do well in the heat\n",
      "Fall is colourful\n",
      "Spring makes me feel optimistic\n",
      "I hate the cold\n",
      "Fall leaves are beautiful\n",
      "Nothing is as soothing as drinking hot chocolate after being out in the cold\n",
      "Swimming in the summer makes me so happy\n",
      "I feel sad watching everything die off in the fall\n",
      "summer is for relaxing\n",
      "spring and fall are shorter\n",
      "seasons bring a change of pace\n",
      "We go south for the winter every year\n"
     ]
    }
   ],
   "source": [
    "widgets_arr = listWidgets( g_mural_id, g_auth_token )\n",
    "for widget in widgets_arr:\n",
    "    print( widget[\"text\"] )"
   ]
  },
  {
   "cell_type": "code",
   "execution_count": null,
   "metadata": {},
   "outputs": [],
   "source": []
  },
  {
   "cell_type": "code",
   "execution_count": null,
   "metadata": {},
   "outputs": [],
   "source": []
  },
  {
   "cell_type": "markdown",
   "metadata": {},
   "source": [
    "## Step 4: Analyze sentiment of sticky contents"
   ]
  },
  {
   "cell_type": "code",
   "execution_count": 17,
   "metadata": {},
   "outputs": [],
   "source": [
    "import watson_nlp\n",
    "from watson_nlp.toolkit import predict_document_sentiment\n",
    "\n",
    "# Load built-in Syntax model and Sentiment model for English\n",
    "syntax_model = watson_nlp.load( watson_nlp.download( \"syntax_izumo_en_stock\" ) )\n",
    "sentiment_model = watson_nlp.load( watson_nlp.download( \"sentiment_sentence-bert_multi_stock\" ) )"
   ]
  },
  {
   "cell_type": "code",
   "execution_count": 18,
   "metadata": {},
   "outputs": [],
   "source": [
    "import pandas as pd\n",
    "import re\n",
    "\n",
    "def analyzeComment( comment ):\n",
    "    syntax_prediction = syntax_model.run( comment )\n",
    "    sentiment_result  = sentiment_model.run_batch( syntax_result.get_sentence_texts(), syntax_result.sentences )\n",
    "    document_sentiment = predict_document_sentiment( sentiment_result, sentiment_model.class_idxs )\n",
    "    sentiment_dict = document_sentiment.to_dict()\n",
    "    sentiment_dict[\"label\"] = re.sub( r\"^.*_\", \"\", sentiment_dict[\"label\"].lower() ).title()\n",
    "    return sentiment_dict\n",
    "\n",
    "def analyzeStickies( stickies_arr ):\n",
    "    sentiment_results = []\n",
    "    for sticky in stickies_arr:\n",
    "        if \"text\" in sticky and re.match( \"\\S\", sticky[\"text\"] ):\n",
    "            sentiment = analyzeComment( sticky[\"text\"] )\n",
    "            sentiment_results.append( [ sticky[\"id\"], sentiment[\"score\"], sentiment[\"label\"], sticky[\"text\"] ] )\n",
    "    df = pd.DataFrame( sentiment_results, columns=[ \"ID\", \"SCORE\", \"SENTIMENT\", \"TEXT\" ] )\n",
    "    return df"
   ]
  },
  {
   "cell_type": "code",
   "execution_count": 19,
   "metadata": {},
   "outputs": [
    {
     "data": {
      "text/html": [
       "<div>\n",
       "<style scoped>\n",
       "    .dataframe tbody tr th:only-of-type {\n",
       "        vertical-align: middle;\n",
       "    }\n",
       "\n",
       "    .dataframe tbody tr th {\n",
       "        vertical-align: top;\n",
       "    }\n",
       "\n",
       "    .dataframe thead th {\n",
       "        text-align: right;\n",
       "    }\n",
       "</style>\n",
       "<table border=\"1\" class=\"dataframe\">\n",
       "  <thead>\n",
       "    <tr style=\"text-align: right;\">\n",
       "      <th></th>\n",
       "      <th>ID</th>\n",
       "      <th>SCORE</th>\n",
       "      <th>SENTIMENT</th>\n",
       "      <th>TEXT</th>\n",
       "    </tr>\n",
       "  </thead>\n",
       "  <tbody>\n",
       "    <tr>\n",
       "      <th>0</th>\n",
       "      <td>08236fbb-198e-4c25-b6b9-7df30ed73589</td>\n",
       "      <td>0.982425</td>\n",
       "      <td>Positive</td>\n",
       "      <td>I love winter!</td>\n",
       "    </tr>\n",
       "    <tr>\n",
       "      <th>1</th>\n",
       "      <td>6956c909-f5bd-45ea-9a84-9dd12a4b0980</td>\n",
       "      <td>-0.686673</td>\n",
       "      <td>Negative</td>\n",
       "      <td>I don't do well in the heat</td>\n",
       "    </tr>\n",
       "    <tr>\n",
       "      <th>2</th>\n",
       "      <td>8b172423-4cfd-4f5e-87b0-c1492c642178</td>\n",
       "      <td>0.000000</td>\n",
       "      <td>Neutral</td>\n",
       "      <td>Fall is colourful</td>\n",
       "    </tr>\n",
       "    <tr>\n",
       "      <th>3</th>\n",
       "      <td>0-1651021491666</td>\n",
       "      <td>0.997671</td>\n",
       "      <td>Positive</td>\n",
       "      <td>Spring makes me feel optimistic</td>\n",
       "    </tr>\n",
       "    <tr>\n",
       "      <th>4</th>\n",
       "      <td>0-1651021504402</td>\n",
       "      <td>-0.898896</td>\n",
       "      <td>Negative</td>\n",
       "      <td>I hate the cold</td>\n",
       "    </tr>\n",
       "    <tr>\n",
       "      <th>5</th>\n",
       "      <td>0-1651021518502</td>\n",
       "      <td>0.981306</td>\n",
       "      <td>Positive</td>\n",
       "      <td>Fall leaves are beautiful</td>\n",
       "    </tr>\n",
       "    <tr>\n",
       "      <th>6</th>\n",
       "      <td>0-1651021530675</td>\n",
       "      <td>0.247025</td>\n",
       "      <td>Positive</td>\n",
       "      <td>Nothing is as soothing as drinking hot chocola...</td>\n",
       "    </tr>\n",
       "    <tr>\n",
       "      <th>7</th>\n",
       "      <td>0-1651021589987</td>\n",
       "      <td>0.993842</td>\n",
       "      <td>Positive</td>\n",
       "      <td>Swimming in the summer makes me so happy</td>\n",
       "    </tr>\n",
       "    <tr>\n",
       "      <th>8</th>\n",
       "      <td>0-1651021606777</td>\n",
       "      <td>-0.996813</td>\n",
       "      <td>Negative</td>\n",
       "      <td>I feel sad watching everything die off in the ...</td>\n",
       "    </tr>\n",
       "    <tr>\n",
       "      <th>9</th>\n",
       "      <td>0-1651021656085</td>\n",
       "      <td>0.747447</td>\n",
       "      <td>Positive</td>\n",
       "      <td>summer is for relaxing</td>\n",
       "    </tr>\n",
       "    <tr>\n",
       "      <th>10</th>\n",
       "      <td>0-1651022626500</td>\n",
       "      <td>0.000000</td>\n",
       "      <td>Neutral</td>\n",
       "      <td>spring and fall are shorter</td>\n",
       "    </tr>\n",
       "    <tr>\n",
       "      <th>11</th>\n",
       "      <td>0-1651022647878</td>\n",
       "      <td>0.606638</td>\n",
       "      <td>Positive</td>\n",
       "      <td>seasons bring a change of pace</td>\n",
       "    </tr>\n",
       "    <tr>\n",
       "      <th>12</th>\n",
       "      <td>0-1651022704643</td>\n",
       "      <td>0.000000</td>\n",
       "      <td>Neutral</td>\n",
       "      <td>We go south for the winter every year</td>\n",
       "    </tr>\n",
       "  </tbody>\n",
       "</table>\n",
       "</div>"
      ],
      "text/plain": [
       "                                      ID     SCORE SENTIMENT  \\\n",
       "0   08236fbb-198e-4c25-b6b9-7df30ed73589  0.982425  Positive   \n",
       "1   6956c909-f5bd-45ea-9a84-9dd12a4b0980 -0.686673  Negative   \n",
       "2   8b172423-4cfd-4f5e-87b0-c1492c642178  0.000000   Neutral   \n",
       "3                        0-1651021491666  0.997671  Positive   \n",
       "4                        0-1651021504402 -0.898896  Negative   \n",
       "5                        0-1651021518502  0.981306  Positive   \n",
       "6                        0-1651021530675  0.247025  Positive   \n",
       "7                        0-1651021589987  0.993842  Positive   \n",
       "8                        0-1651021606777 -0.996813  Negative   \n",
       "9                        0-1651021656085  0.747447  Positive   \n",
       "10                       0-1651022626500  0.000000   Neutral   \n",
       "11                       0-1651022647878  0.606638  Positive   \n",
       "12                       0-1651022704643  0.000000   Neutral   \n",
       "\n",
       "                                                 TEXT  \n",
       "0                                      I love winter!  \n",
       "1                         I don't do well in the heat  \n",
       "2                                   Fall is colourful  \n",
       "3                     Spring makes me feel optimistic  \n",
       "4                                     I hate the cold  \n",
       "5                           Fall leaves are beautiful  \n",
       "6   Nothing is as soothing as drinking hot chocola...  \n",
       "7            Swimming in the summer makes me so happy  \n",
       "8   I feel sad watching everything die off in the ...  \n",
       "9                              summer is for relaxing  \n",
       "10                        spring and fall are shorter  \n",
       "11                     seasons bring a change of pace  \n",
       "12              We go south for the winter every year  "
      ]
     },
     "execution_count": 19,
     "metadata": {},
     "output_type": "execute_result"
    }
   ],
   "source": [
    "df = analyzeStickies( widgets_arr )\n",
    "df"
   ]
  },
  {
   "cell_type": "code",
   "execution_count": null,
   "metadata": {},
   "outputs": [],
   "source": []
  },
  {
   "cell_type": "code",
   "execution_count": null,
   "metadata": {},
   "outputs": [],
   "source": []
  },
  {
   "cell_type": "markdown",
   "metadata": {},
   "source": [
    "## Step 5: Color code stickies based on sentiment"
   ]
  },
  {
   "cell_type": "code",
   "execution_count": 25,
   "metadata": {},
   "outputs": [],
   "source": [
    "def colorSticky( sticky_id, color, mural_id, auth_token ):\n",
    "    # https://developers.mural.co/public/reference/updatestickynote\n",
    "    url = \"https://app.mural.co/api/public/v1/murals/\" + mural_id + \"/widgets/sticky-note/\" + sticky_id\n",
    "    headers = { \"Content-Type\" : \"application/json\", \"Accept\" : \"vnd.mural.preview\", \"Authorization\" : \"Bearer \" + auth_token }\n",
    "    data = json.dumps( { \"style\" : { \"backgroundColor\" : color } } )\n",
    "    response = requests.request( \"PATCH\", url, headers=headers, data=data )\n",
    "    response_json = json.loads( response.text )\n",
    "    msg = \"\"\n",
    "    if \"code\" in response_json:\n",
    "        msg += response_json[\"code\"] + \" \"\n",
    "    if \"message\" in response_json:\n",
    "        msg += response_json[\"message\"]\n",
    "    if msg != \"\":\n",
    "        print( \"[ \" + sticky_id + \" ]  \" + msg )\n",
    "\n",
    "def colorCodeStickies( stickies_arr, sentiment_df, mural_id, auth_token ):\n",
    "    colors = { \"Positive\" : \"#046307FF\",  # green\n",
    "               \"Neutral\"  : \"#FFA500FF\",  # orange\n",
    "               \"Negative\" : \"#0000CDFF\" } # blue\n",
    "    for sticky in stickies_arr:\n",
    "        sentiment = list( sentiment_df[ sentiment_df[\"ID\"] == sticky[\"id\"] ][\"SENTIMENT\"] )[0]\n",
    "        colorSticky( sticky[\"id\"], colors[ sentiment ], mural_id, auth_token )"
   ]
  },
  {
   "cell_type": "code",
   "execution_count": 38,
   "metadata": {},
   "outputs": [],
   "source": [
    "import time\n",
    "time.sleep(5)\n",
    "\n",
    "# Quick!  After running this cell, switch to your browser \n",
    "# tab where the mural is to see the colors change\n",
    "# ...\n",
    "\n",
    "colorCodeStickies( widgets_arr, df, g_mural_id, g_auth_token )"
   ]
  },
  {
   "cell_type": "code",
   "execution_count": null,
   "metadata": {},
   "outputs": [],
   "source": []
  },
  {
   "cell_type": "markdown",
   "metadata": {},
   "source": [
    "Like this:\n",
    "\n",
    "<img src=\"https://github.com/spackows/MURAL-API-Samples/blob/main/images/sample-05_color-code-by-sentiment.gif?raw=true\" width=\"50%\" title=\"Colors changing\" />"
   ]
  },
  {
   "cell_type": "code",
   "execution_count": null,
   "metadata": {},
   "outputs": [],
   "source": []
  },
  {
   "cell_type": "code",
   "execution_count": null,
   "metadata": {},
   "outputs": [],
   "source": []
  }
 ],
 "metadata": {
  "kernelspec": {
   "display_name": "Python 3.8 Watson NLP",
   "language": "python",
   "name": "python3"
  },
  "language_info": {
   "codemirror_mode": {
    "name": "ipython",
    "version": 3
   },
   "file_extension": ".py",
   "mimetype": "text/x-python",
   "name": "python",
   "nbconvert_exporter": "python",
   "pygments_lexer": "ipython3",
   "version": "3.8.11"
  }
 },
 "nbformat": 4,
 "nbformat_minor": 1
}
