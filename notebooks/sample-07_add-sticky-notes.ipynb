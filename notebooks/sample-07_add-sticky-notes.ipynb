{
 "cells": [
  {
   "cell_type": "markdown",
   "metadata": {},
   "source": [
    "# Add sticky notes randomly in a shape\n",
    "\n",
    "This notebook demonstrates how to add new sticky notes inside a shape in a random pattern.\n",
    "\n",
    "There is no sample mural to start this notebook.  Just make a new mural yourself with one large rectangle in it.\n",
    "\n",
    "When you run this notebook, your mural will look something like the following image:\n",
    "\n",
    "<img src=\"https://raw.githubusercontent.com/spackows/MURAL-API-Samples/main/images/sample-07_add-sticky-notes.gif\" width=\"50%\" title=\"Image of a mural\" />"
   ]
  },
  {
   "cell_type": "code",
   "execution_count": null,
   "metadata": {},
   "outputs": [],
   "source": []
  },
  {
   "cell_type": "code",
   "execution_count": null,
   "metadata": {},
   "outputs": [],
   "source": []
  },
  {
   "cell_type": "markdown",
   "metadata": {},
   "source": [
    "## Step 1: Collect the mural ID\n",
    "\n",
    "You can find the mural ID in the url of a mural.\n",
    "\n",
    "Mural urls look something like this:\n",
    "\n",
    "```\n",
    "https://app.mural.co/t/<workspace>/m/<workspace>/<id>/...\n",
    "```\n",
    "\n",
    "What you need to pass to the MURAL API is just after the `/m/`: the \\<workspace> and the \\<id>.  And you need to join then with a period.\n",
    "\n",
    "For example, if you have a mural with this url:\n",
    "\n",
    "```\n",
    "https://app.mural.co/t/teamideas1234/m/teamideas1234/1234567890123/...\n",
    "```\n",
    "\n",
    "Then, the mural ID is: `teamideas1234.1234567890123`"
   ]
  },
  {
   "cell_type": "code",
   "execution_count": 1,
   "metadata": {},
   "outputs": [],
   "source": [
    "g_mural_id = \"\""
   ]
  },
  {
   "cell_type": "code",
   "execution_count": null,
   "metadata": {},
   "outputs": [],
   "source": []
  },
  {
   "cell_type": "code",
   "execution_count": null,
   "metadata": {},
   "outputs": [],
   "source": []
  },
  {
   "cell_type": "markdown",
   "metadata": {},
   "source": [
    "## Step 2: Collect your OAuth token"
   ]
  },
  {
   "cell_type": "code",
   "execution_count": 80,
   "metadata": {},
   "outputs": [],
   "source": [
    "g_auth_token = \"\""
   ]
  },
  {
   "cell_type": "code",
   "execution_count": null,
   "metadata": {},
   "outputs": [],
   "source": []
  },
  {
   "cell_type": "code",
   "execution_count": null,
   "metadata": {},
   "outputs": [],
   "source": []
  },
  {
   "cell_type": "markdown",
   "metadata": {},
   "source": [
    "## Step 3: Read the rectangle shape from the mural"
   ]
  },
  {
   "cell_type": "code",
   "execution_count": 81,
   "metadata": {},
   "outputs": [],
   "source": [
    "import requests\n",
    "import json\n",
    "\n",
    "def listWidgets( mural_id, auth_token ):\n",
    "    # https://developers.mural.co/public/reference/getmuralwidgets\n",
    "    url = \"https://app.mural.co/api/public/v1/murals/\" + mural_id + \"/widgets\"\n",
    "    headers = { \"Accept\": \"application/json\", \"Authorization\": \"Bearer \" + auth_token }\n",
    "    response = requests.request( \"GET\", url, headers = headers )\n",
    "    response_json = json.loads( response.text )\n",
    "    msg = \"\"\n",
    "    if \"code\" in response_json:\n",
    "        msg += response_json[\"code\"] + \" \"\n",
    "    if \"message\" in response_json:\n",
    "        msg += response_json[\"message\"]\n",
    "    if msg != \"\":\n",
    "        print( msg )\n",
    "        return None\n",
    "    if \"value\" not in response_json:\n",
    "        print( \"No value returned\" )\n",
    "        return None\n",
    "    return response_json[\"value\"]"
   ]
  },
  {
   "cell_type": "code",
   "execution_count": 82,
   "metadata": {},
   "outputs": [],
   "source": [
    "widgets_arr = listWidgets( g_mural_id, g_auth_token )"
   ]
  },
  {
   "cell_type": "code",
   "execution_count": 83,
   "metadata": {},
   "outputs": [
    {
     "name": "stdout",
     "output_type": "stream",
     "text": [
      "{\n",
      "   \"id\": \"0-1651775781700\",\n",
      "   \"x\": 169.43,\n",
      "   \"y\": 151.37,\n",
      "   \"width\": 1712.8376623376619,\n",
      "   \"height\": 849.0389610389609\n",
      "}\n"
     ]
    }
   ],
   "source": [
    "rectangle = { \"id\"     : widgets_arr[0][\"id\"],\n",
    "              \"x\"      : widgets_arr[0][\"x\"],\n",
    "              \"y\"      : widgets_arr[0][\"y\"],\n",
    "              \"width\"  : widgets_arr[0][\"width\"],\n",
    "              \"height\" : widgets_arr[0][\"height\"] }\n",
    "print( json.dumps( rectangle, indent = 3 ) )"
   ]
  },
  {
   "cell_type": "code",
   "execution_count": null,
   "metadata": {},
   "outputs": [],
   "source": []
  },
  {
   "cell_type": "code",
   "execution_count": null,
   "metadata": {},
   "outputs": [],
   "source": []
  },
  {
   "cell_type": "markdown",
   "metadata": {},
   "source": [
    "## Step 4: Add stickies inside the rectangle randomly"
   ]
  },
  {
   "cell_type": "markdown",
   "metadata": {},
   "source": [
    "### 4.1 Coordinates\n",
    "Make a list of random x, y coordinates inside the rectangle."
   ]
  },
  {
   "cell_type": "code",
   "execution_count": 66,
   "metadata": {},
   "outputs": [],
   "source": [
    "import numpy as np\n",
    "import random\n",
    "\n",
    "def makeRandomCoords( rectangle, sticky_width, sticky_height ):\n",
    "    x_start = round( rectangle[\"x\"] + ( 0.5 * sticky_width ) )\n",
    "    x_end   = round( rectangle[\"x\"] + rectangle[\"width\"] - ( 1.5 * sticky_width ) )\n",
    "    y_start = round( rectangle[\"y\"] + ( 0.5 * sticky_height ) )\n",
    "    y_end   = round( rectangle[\"y\"] + rectangle[\"height\"] - ( 1.5 * sticky_height ) )\n",
    "    x_list = np.arange( x_start, x_end, round( 0.6 * sticky_width ) ).tolist()\n",
    "    x_list += x_list\n",
    "    random.shuffle( x_list )\n",
    "    random.shuffle( x_list )\n",
    "    y_list = np.arange( y_start, y_end, round( 0.6 * sticky_width ) ).tolist()\n",
    "    y_list += y_list\n",
    "    random.shuffle( y_list )\n",
    "    random.shuffle( y_list )\n",
    "    x_length = len( x_list )\n",
    "    y_length = len( y_list )\n",
    "    list_length = x_length if ( x_length < y_length ) else y_length\n",
    "    coords = []\n",
    "    for i in range( list_length ):\n",
    "        x = x_list[i] + 10 * random.random()\n",
    "        y = y_list[i] + 10 * random.random()\n",
    "        coords.append( [ x, y ] )\n",
    "    return coords"
   ]
  },
  {
   "cell_type": "markdown",
   "metadata": {},
   "source": [
    "### 4.2 Colors\n",
    "Make a random list of nice background colors for the stickies."
   ]
  },
  {
   "cell_type": "code",
   "execution_count": 74,
   "metadata": {},
   "outputs": [],
   "source": [
    "g_colors = {\n",
    "    \"#b68d40FF\" : \"tan\",\n",
    "    \"#f4ebd0FF\" : \"cream\",\n",
    "    \"#122620FF\" : \"charcoal\",\n",
    "    \"#b99095FF\" : \"mauve\",\n",
    "    \"#fcb5acFF\" : \"salmon\",\n",
    "    \"#b5e5cfFF\" : \"mint\",\n",
    "    \"#3d5b59FF\" : \"teal green\",\n",
    "    \"#05445eFF\" : \"navy blue\",\n",
    "    \"#189ab4FF\" : \"blue grotto\",\n",
    "    \"#d4f1f4FF\" : \"baby blue\"\n",
    "}\n",
    "\n",
    "def randomColors():\n",
    "    color_index_list = np.arange( 0, len( g_colors.keys() ), 1 ).tolist()\n",
    "    color_index_list += color_index_list\n",
    "    random.shuffle( color_index_list )\n",
    "    random_colors = []\n",
    "    for color_index in color_index_list:\n",
    "        random_colors.append( list( g_colors.keys() )[ color_index ] )\n",
    "    return random_colors"
   ]
  },
  {
   "cell_type": "markdown",
   "metadata": {},
   "source": [
    "### 4.3 Reuse the is-it-overlapping function\n",
    "We'll need to reuse this function from earlier samples so we can avoid piling sticky notes right on top of each other."
   ]
  },
  {
   "cell_type": "code",
   "execution_count": 27,
   "metadata": {},
   "outputs": [],
   "source": [
    "def stickyInsideOverlapsRectangle( sticky, rectangle ):\n",
    "    #\n",
    "    left_edge_overlaps = False\n",
    "    if ( sticky[\"x\"] >= rectangle[\"x\"] ) and \\\n",
    "       ( sticky[\"x\"] <= ( rectangle[\"x\"] + rectangle[\"width\"] ) ):\n",
    "        left_edge_overlaps = True\n",
    "    #\n",
    "    right_edge_overlaps = False\n",
    "    if ( ( sticky[\"x\"] + sticky[\"width\"] ) >= rectangle[\"x\"] ) and \\\n",
    "       ( ( sticky[\"x\"] + sticky[\"width\"] ) <= ( rectangle[\"x\"] + rectangle[\"width\"] ) ):\n",
    "        right_edge_overlaps = True\n",
    "    #\n",
    "    top_edge_overlaps = False\n",
    "    if ( sticky[\"y\"] >= rectangle[\"y\"] ) and \\\n",
    "       ( sticky[\"y\"] <= ( rectangle[\"y\"] + rectangle[\"height\"] ) ):\n",
    "        top_edge_overlaps = True\n",
    "    #\n",
    "    bottom_edge_overlaps = False\n",
    "    if ( ( sticky[\"y\"] + sticky[\"height\"] ) >= rectangle[\"y\"] ) and \\\n",
    "       ( ( sticky[\"y\"] + sticky[\"height\"] ) <= ( rectangle[\"y\"] + rectangle[\"height\"] ) ):\n",
    "        bottom_edge_overlaps = True\n",
    "    \n",
    "    if left_edge_overlaps and right_edge_overlaps and top_edge_overlaps and bottom_edge_overlaps:\n",
    "        return \"inside\"\n",
    "    \n",
    "    if ( left_edge_overlaps or right_edge_overlaps ) and ( top_edge_overlaps or bottom_edge_overlaps ):\n",
    "        return \"overlaps\"\n",
    "    \n",
    "    return \"outside\"\n",
    "\n",
    "def overlaps( x, y, sticky_width, sticky_height, stickies_arr ):\n",
    "    sticky_in = { \"x\" : x, \"y\" : y, \"width\" : sticky_width, \"height\" : sticky_height }\n",
    "    for existing_sticky in stickies_arr:\n",
    "        position = stickyInsideOverlapsRectangle( sticky_in, existing_sticky )\n",
    "        if ( \"overlaps\" == position ) or ( \"inside\" == position ):\n",
    "            return True\n",
    "    return False"
   ]
  },
  {
   "cell_type": "markdown",
   "metadata": {},
   "source": [
    "### 4.4 MURAL API\n",
    "Once we know where we want to put a sticky note, we need to use the MURAL API to put it there."
   ]
  },
  {
   "cell_type": "code",
   "execution_count": 31,
   "metadata": {},
   "outputs": [],
   "source": [
    "def addStickyToMural( mural_id, auth_token, sticky_data ):\n",
    "    # https://developers.mural.co/public/reference/createstickynote\n",
    "    url = \"https://app.mural.co/api/public/v1/murals/\" + mural_id + \"/widgets/sticky-note\"\n",
    "    headers = { \"Content-Type\" : \"application/json\", \"Accept\" : \"vnd.mural.preview\", \"Authorization\" : \"Bearer \" + auth_token }\n",
    "    data = json.dumps( sticky_data )\n",
    "    response = requests.request( \"POST\", url, headers=headers, data=data )\n",
    "    response_json = json.loads( response.text )\n",
    "    msg = \"\"\n",
    "    if \"code\" in response_json:\n",
    "        msg += response_json[\"code\"] + \" \"\n",
    "    if \"message\" in response_json:\n",
    "        msg += response_json[\"message\"]\n",
    "    if msg != \"\":\n",
    "        print( msg )"
   ]
  },
  {
   "cell_type": "markdown",
   "metadata": {},
   "source": [
    "### 4.5 Pull it all together\n",
    "Here's the routine using all of the above components:"
   ]
  },
  {
   "cell_type": "code",
   "execution_count": 71,
   "metadata": {},
   "outputs": [],
   "source": [
    "def placeAllStickies( mural_id, auth_token, rectangle, sticky_width, sticky_height, text_arr ):\n",
    "    coords = makeRandomCoords( rectangle, sticky_width, sticky_height )\n",
    "    random_colors = randomColors()\n",
    "    stickies_arr = []\n",
    "    for txt in text_arr:\n",
    "        bg_color = random_colors.pop()\n",
    "        print( \"[ \" + g_colors[ bg_color ].ljust(10) + \" ]  \" + txt )\n",
    "        x, y = coords.pop()\n",
    "        count = 0\n",
    "        while ( count <= 3 ) and overlaps( x, y, sticky_width, sticky_height, stickies_arr ):\n",
    "            x, y = coords.pop()\n",
    "            count += 1\n",
    "        sticky = { \"x\"      : x, \n",
    "                   \"y\"      : y, \n",
    "                   \"width\"  : sticky_width, \n",
    "                   \"height\" : sticky_height, \n",
    "                   \"shape\"  : \"rectangle\", \n",
    "                   \"style\"  : { \"backgroundColor\" : bg_color }, \n",
    "                   \"text\"   : txt }\n",
    "        addStickyToMural( mural_id, auth_token, sticky )\n",
    "        stickies_arr.append( sticky )"
   ]
  },
  {
   "cell_type": "code",
   "execution_count": 72,
   "metadata": {},
   "outputs": [],
   "source": [
    "g_text_arr = [\n",
    "    \"Here's a sticky note!\",\n",
    "    \"I love posting stickies\",\n",
    "    \"comment comment comment comment\",\n",
    "    \"Look at all these comments\",\n",
    "    \"Yet another sticky\",\n",
    "    \"You guessed it.. another sticky note\",\n",
    "    \"Is it getting crowded in this rectangle yet?\",\n",
    "    \"How's the weather where you are?\",\n",
    "    \"Apples are quite nice\",\n",
    "    \"Don't forget an umbrella!\"\n",
    "]"
   ]
  },
  {
   "cell_type": "code",
   "execution_count": 84,
   "metadata": {},
   "outputs": [
    {
     "name": "stdout",
     "output_type": "stream",
     "text": [
      "[ baby blue  ]  Here's a sticky note!\n",
      "[ navy blue  ]  I love posting stickies\n",
      "[ charcoal   ]  comment comment comment comment\n",
      "[ navy blue  ]  Look at all these comments\n",
      "[ salmon     ]  Yet another sticky\n",
      "[ teal green ]  You guessed it.. another sticky note\n",
      "[ tan        ]  Is it getting crowded in this rectangle yet?\n",
      "[ mauve      ]  How's the weather where you are?\n",
      "[ mint       ]  Apples are quite nice\n",
      "[ tan        ]  Don't forget an umbrella!\n"
     ]
    }
   ],
   "source": [
    "import time\n",
    "\n",
    "time.sleep(5)\n",
    "\n",
    "# Quick!  After running this cell, switch to your browser \n",
    "# tab where the mural is to see the stickies get added\n",
    "# ...\n",
    "\n",
    "g_width = 150\n",
    "g_height = 150\n",
    "\n",
    "placeAllStickies( g_mural_id, g_auth_token, rectangle, g_width, g_height, g_text_arr )"
   ]
  },
  {
   "cell_type": "code",
   "execution_count": null,
   "metadata": {},
   "outputs": [],
   "source": []
  },
  {
   "cell_type": "markdown",
   "metadata": {},
   "source": [
    "Something like this:\n",
    "\n",
    "<img src=\"https://raw.githubusercontent.com/spackows/MURAL-API-Samples/main/images/sample-07_add-sticky-notes.gif\" width=\"50%\" title=\"Image of a mural\" />"
   ]
  },
  {
   "cell_type": "code",
   "execution_count": null,
   "metadata": {},
   "outputs": [],
   "source": []
  },
  {
   "cell_type": "code",
   "execution_count": null,
   "metadata": {},
   "outputs": [],
   "source": []
  },
  {
   "cell_type": "code",
   "execution_count": null,
   "metadata": {},
   "outputs": [],
   "source": []
  }
 ],
 "metadata": {
  "kernelspec": {
   "display_name": "Python 3.9",
   "language": "python",
   "name": "python3"
  },
  "language_info": {
   "codemirror_mode": {
    "name": "ipython",
    "version": 3
   },
   "file_extension": ".py",
   "mimetype": "text/x-python",
   "name": "python",
   "nbconvert_exporter": "python",
   "pygments_lexer": "ipython3",
   "version": "3.9.7"
  }
 },
 "nbformat": 4,
 "nbformat_minor": 1
}
