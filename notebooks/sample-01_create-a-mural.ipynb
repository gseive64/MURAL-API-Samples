{
 "cells": [
  {
   "cell_type": "markdown",
   "metadata": {},
   "source": [
    "# Create a mural from sample .json\n",
    "\n",
    "This notebook demonstrates how to create a new mural containing widgets defined in a .json file.\n",
    "\n",
    "A sample .json file containing the contents of a sample mural is available ere: [Sample .json file](https://github.com/spackows/MURAL-API-Samples/blob/main/murals/sample-02_overlap-inside-rectangle.json)\n",
    "\n",
    "The following image shows what the sample mural looks like:\n",
    "\n",
    "<img src=\"https://raw.githubusercontent.com/spackows/MURAL-API-Samples/main/images/sample-02_overlap-inside-rectangle.png\" width=\"50%\" title=\"Sample mural\" />"
   ]
  },
  {
   "cell_type": "code",
   "execution_count": null,
   "metadata": {},
   "outputs": [],
   "source": []
  },
  {
   "cell_type": "code",
   "execution_count": null,
   "metadata": {},
   "outputs": [],
   "source": []
  },
  {
   "cell_type": "markdown",
   "metadata": {},
   "source": [
    "## Step 1: Read sample .json file"
   ]
  },
  {
   "cell_type": "code",
   "execution_count": 143,
   "metadata": {},
   "outputs": [],
   "source": [
    "import urllib\n",
    "import json\n",
    "\n",
    "url = \"https://raw.githubusercontent.com/spackows/MURAL-API-Samples/main/murals/sample-02_overlap-inside-rectangle.json\"\n",
    "response = urllib.request.urlopen( url )\n",
    "encoding = response.info().get_content_charset( \"utf8\" )\n",
    "widgets_arr = json.loads( response.read().decode( encoding ) )"
   ]
  },
  {
   "cell_type": "code",
   "execution_count": 144,
   "metadata": {},
   "outputs": [
    {
     "name": "stdout",
     "output_type": "stream",
     "text": [
      "[\n",
      "   {\n",
      "      \"height\": 382.750001220703,\n",
      "      \"id\": \"0-1650991681040\",\n",
      "      \"width\": 608.2500024414062,\n",
      "      \"x\": 302.94,\n",
      "      \"y\": 314.78,\n",
      "      \"shape\": \"square\",\n",
      "      \"style\": {\n",
      "         \"backgroundColor\": \"#FFFFFF00\",\n",
      "         \"strokeColor\": \"#000000FF\",\n",
      "         \"strokeSize\": 3,\n",
      "         \"strokeStyle\": \"solid\"\n",
      "      },\n",
      "      \"type\": \"shape\"\n",
      "   },\n",
      "   {\n",
      "      \"height\": 138,\n",
      "      \"id\": \"0-1650991688310\",\n",
      "      \"title\": \"\",\n",
      "      \"width\": 138,\n",
      "      \"x\": 233.94,\n",
      "      \"y\": 156.77999999999997,\n",
      "      \"shape\": \"rectangle\",\n",
      "      \"style\": {\n",
      "         \"backgroundColor\": \"#CB8CF9FF\",\n",
      "         \"bold\": false,\n",
      "         \"font\": \"proxima-nova\",\n",
      "         \"fontSize\": 23,\n",
      "         \"italic\": false,\n",
      "         \"strike\": false,\n",
      "         \"textAlign\": \"center\",\n",
      "         \"underline\": false,\n",
      "         \"border\": false\n",
      "      },\n",
      "      \"text\": \"This is outside\",\n",
      "      \"type\": \"sticky note\"\n",
      "   },\n",
      "   {\n",
      "      \"height\": 138,\n",
      "      \"id\": \"0-1650991701198\",\n",
      "      \"width\": 138,\n",
      "      \"x\": 564.07,\n",
      "      \"y\": 239.28,\n",
      "      \"shape\": \"rectangle\",\n",
      "      \"style\": {\n",
      "         \"backgroundColor\": \"#FFCB43FF\",\n",
      "         \"bold\": false,\n",
      "         \"font\": \"proxima-nova\",\n",
      "         \"fontSize\": 23,\n",
      "         \"italic\": false,\n",
      "         \"strike\": false,\n",
      "         \"textAlign\": \"center\",\n",
      "         \"underline\": false,\n",
      "         \"border\": false\n",
      "      },\n",
      "      \"text\": \"This overlaps\",\n",
      "      \"type\": \"sticky note\"\n",
      "   },\n",
      "   {\n",
      "      \"height\": 138,\n",
      "      \"id\": \"0-1650991717299\",\n",
      "      \"width\": 138,\n",
      "      \"x\": 406.07000000000005,\n",
      "      \"y\": 397.28,\n",
      "      \"shape\": \"rectangle\",\n",
      "      \"style\": {\n",
      "         \"backgroundColor\": \"#2D9613FF\",\n",
      "         \"bold\": false,\n",
      "         \"font\": \"proxima-nova\",\n",
      "         \"fontSize\": 23,\n",
      "         \"italic\": false,\n",
      "         \"strike\": false,\n",
      "         \"textAlign\": \"center\",\n",
      "         \"underline\": false,\n",
      "         \"border\": false\n",
      "      },\n",
      "      \"text\": \"This is inside\",\n",
      "      \"type\": \"sticky note\"\n",
      "   }\n",
      "]\n"
     ]
    }
   ],
   "source": [
    "print( json.dumps( widgets_arr, indent = 3 ) )"
   ]
  },
  {
   "cell_type": "code",
   "execution_count": null,
   "metadata": {},
   "outputs": [],
   "source": []
  },
  {
   "cell_type": "code",
   "execution_count": null,
   "metadata": {},
   "outputs": [],
   "source": []
  },
  {
   "cell_type": "markdown",
   "metadata": {},
   "source": [
    "## Step 2: Collect the workspace ID and room ID where the mural will go\n",
    "\n",
    "You can find the workspace ID and the room ID in the url of a room.\n",
    "\n",
    "Room urls look something like this:\n",
    "\n",
    "```\n",
    "https://app.mural.co/t/<workspace>/r/<id>\n",
    "```\n",
    "\n",
    "What you need to pass to the MURAL API is before and after the `/r/`: the \\<workspace> and the \\<id>.\n",
    "\n",
    "For example, if you have a room with this url:\n",
    "\n",
    "```\n",
    "https://app.mural.co/t/teamideas1234/r/1234567890123\n",
    "```\n",
    "\n",
    "Then, the workspace ID is \"teamideas1234\" and the room ID is \"1234567890123\"."
   ]
  },
  {
   "cell_type": "code",
   "execution_count": 101,
   "metadata": {},
   "outputs": [],
   "source": [
    "g_workspace_id = \"\""
   ]
  },
  {
   "cell_type": "code",
   "execution_count": 102,
   "metadata": {},
   "outputs": [],
   "source": [
    "g_room_id = \"\""
   ]
  },
  {
   "cell_type": "code",
   "execution_count": null,
   "metadata": {},
   "outputs": [],
   "source": []
  },
  {
   "cell_type": "code",
   "execution_count": null,
   "metadata": {},
   "outputs": [],
   "source": []
  },
  {
   "cell_type": "markdown",
   "metadata": {},
   "source": [
    "## Step 3: Collect your OAuth token"
   ]
  },
  {
   "cell_type": "code",
   "execution_count": 131,
   "metadata": {},
   "outputs": [],
   "source": [
    "g_auth_token = \"\""
   ]
  },
  {
   "cell_type": "code",
   "execution_count": null,
   "metadata": {},
   "outputs": [],
   "source": []
  },
  {
   "cell_type": "code",
   "execution_count": null,
   "metadata": {},
   "outputs": [],
   "source": []
  },
  {
   "cell_type": "markdown",
   "metadata": {},
   "source": [
    "## Step 4: Create a blank mural"
   ]
  },
  {
   "cell_type": "code",
   "execution_count": 20,
   "metadata": {},
   "outputs": [],
   "source": [
    "import requests\n",
    "\n",
    "def createMural( auth_token, workspace_id, room_id, title ):\n",
    "    # https://developers.mural.co/public/reference/createmural\n",
    "    url = \"https://app.mural.co/api/public/v1/murals\"\n",
    "    headers = { \"Accept\"        : \"application/json\", \n",
    "                \"Content-Type\"  : \"application/json\", \n",
    "                \"Authorization\" : \"Bearer \" + auth_token }\n",
    "    parms = { \"workspaceId\" : workspace_id, \n",
    "              \"roomId\"      : int( room_id ),  # If this is not a number, call fails\n",
    "              \"title\"       : title }\n",
    "    response = requests.request( \"POST\", url, headers = headers, json = parms )\n",
    "    response_json = json.loads( response.text )\n",
    "    msg = \"\"\n",
    "    if \"code\" in response_json:\n",
    "        msg += response_json[\"code\"] + \" \"\n",
    "    if \"message\" in response_json:\n",
    "        msg += response_json[\"message\"]\n",
    "    if msg != \"\":\n",
    "        print( msg )\n",
    "        return None\n",
    "    if \"value\" not in response_json:\n",
    "        print( \"No value returned\" )\n",
    "        return None\n",
    "    if \"id\" not in response_json[\"value\"]:\n",
    "        print( \"No id returned\" )\n",
    "        return None\n",
    "    return response_json[\"value\"][\"id\"]"
   ]
  },
  {
   "cell_type": "code",
   "execution_count": 22,
   "metadata": {},
   "outputs": [
    {
     "name": "stdout",
     "output_type": "stream",
     "text": [
      "UNAUTHORIZED You don't have the required permissions to access this endpoint.\n",
      "None\n"
     ]
    }
   ],
   "source": [
    "title = \"Created using the API!\"\n",
    "mural_id = createMural( \"dummy\", g_workspace_id, g_room_id, title )\n",
    "print( mural_id )"
   ]
  },
  {
   "cell_type": "code",
   "execution_count": 23,
   "metadata": {},
   "outputs": [
    {
     "name": "stdout",
     "output_type": "stream",
     "text": [
      "WORKSPACE_NOT_FOUND The workspace was not found or does not exist.\n",
      "None\n"
     ]
    }
   ],
   "source": [
    "title = \"Created using the API!\"\n",
    "mural_id = createMural( g_auth_token, \"dummy\", g_room_id, title )\n",
    "print( mural_id )"
   ]
  },
  {
   "cell_type": "code",
   "execution_count": 24,
   "metadata": {},
   "outputs": [
    {
     "name": "stdout",
     "output_type": "stream",
     "text": [
      "teamideas1234.1651006118176\n"
     ]
    }
   ],
   "source": [
    "title = \"Created using the API!\"\n",
    "mural_id = createMural( g_auth_token, g_workspace_id, g_room_id, title )\n",
    "print( mural_id )"
   ]
  },
  {
   "cell_type": "code",
   "execution_count": null,
   "metadata": {},
   "outputs": [],
   "source": []
  },
  {
   "cell_type": "code",
   "execution_count": null,
   "metadata": {},
   "outputs": [],
   "source": []
  },
  {
   "cell_type": "markdown",
   "metadata": {},
   "source": [
    "## Step 5: Put all the widgets into the mural"
   ]
  },
  {
   "cell_type": "code",
   "execution_count": 141,
   "metadata": {},
   "outputs": [],
   "source": [
    "import re\n",
    "import copy\n",
    "\n",
    "def putWidget( auth_token, mural_id, widget ):\n",
    "    # https://developers.mural.co/public/reference/createstickynote\n",
    "    # https://developers.mural.co/public/reference/createshapewidget\n",
    "    widget_type = widget[\"type\"]\n",
    "    url = \"https://app.mural.co/api/public/v1/murals/\" + mural_id + \"/widgets/\" + re.sub( \"\\s+\", \"-\", widget_type )\n",
    "    headers = { #\"Accept\"        : \"application/json\", \n",
    "                \"Accept\"        : \"vnd.mural.preview\",\n",
    "                \"Content-Type\"  : \"application/json\", \n",
    "                \"Authorization\" : \"Bearer \" + auth_token }\n",
    "    parms = copy.deepcopy( widget )\n",
    "    if \"id\" in parms:\n",
    "        del parms[\"id\"]\n",
    "    if \"type\" in parms:\n",
    "        del parms[\"type\"]\n",
    "    #if \"style\" in parms:\n",
    "    #    del parms[\"style\"]\n",
    "    response = requests.request( \"POST\", url, headers = headers, json = parms )\n",
    "    response_json = json.loads( response.text )\n",
    "    msg = \"\"\n",
    "    if \"code\" in response_json:\n",
    "        msg += response_json[\"code\"] + \" \"\n",
    "    if \"message\" in response_json:\n",
    "        msg += response_json[\"message\"]\n",
    "    if msg != \"\":\n",
    "        print( \"[ \" + widget[\"id\"] + \" ] \" + msg )\n",
    "    else:\n",
    "        print( \"[ \" + widget[\"id\"] + \" ] Success\" )"
   ]
  },
  {
   "cell_type": "code",
   "execution_count": 142,
   "metadata": {},
   "outputs": [
    {
     "name": "stdout",
     "output_type": "stream",
     "text": [
      "[ 0-1650991681040 ] Success\n",
      "[ 0-1650991688310 ] Success\n",
      "[ 0-1650991701198 ] Success\n",
      "[ 0-1650991717299 ] Success\n"
     ]
    }
   ],
   "source": [
    "for widget in widgets_arr:\n",
    "    putWidget( g_auth_token, mural_id, widget )"
   ]
  },
  {
   "cell_type": "code",
   "execution_count": null,
   "metadata": {},
   "outputs": [],
   "source": []
  },
  {
   "cell_type": "code",
   "execution_count": null,
   "metadata": {},
   "outputs": [],
   "source": []
  }
 ],
 "metadata": {
  "kernelspec": {
   "display_name": "Python 3.9",
   "language": "python",
   "name": "python3"
  },
  "language_info": {
   "codemirror_mode": {
    "name": "ipython",
    "version": 3
   },
   "file_extension": ".py",
   "mimetype": "text/x-python",
   "name": "python",
   "nbconvert_exporter": "python",
   "pygments_lexer": "ipython3",
   "version": "3.9.7"
  }
 },
 "nbformat": 4,
 "nbformat_minor": 1
}
