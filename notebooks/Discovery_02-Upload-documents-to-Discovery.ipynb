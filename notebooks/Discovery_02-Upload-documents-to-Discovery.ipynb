{
 "cells": [
  {
   "cell_type": "markdown",
   "metadata": {
    "collapsed": true
   },
   "source": [
    "# Table of contents\n",
    "\n",
    "<ol style=\"list-style: none; margin: 20px 0px 0px 0px; padding: 0px\">\n",
    "<li style=\"margin: 0px 0px 3px 0px;\"><b>Step 1:</b> Read MURAL data from project asset</li>\n",
    "<li style=\"margin: 0px 0px 3px 0px;\"><b>Step 2:</b> Create local documents (files in working directory)</li>\n",
    "<li style=\"margin: 0px 0px 3px 0px;\"><b>Step 3:</b> Authenticate with Watson Discovery</li>\n",
    "<li style=\"margin: 0px 0px 3px 0px;\"><b>Step 4:</b> Create a Project in Discovery</li>\n",
    "<li style=\"margin: 0px 0px 3px 0px;\"><b>Step 5:</b> Create a Collection in Discovery</li>\n",
    "<li style=\"margin: 0px 0px 3px 0px;\"><b>Step 6:</b> Upload documents to Collection</li>\n",
    "</ol>"
   ]
  },
  {
   "cell_type": "code",
   "execution_count": null,
   "metadata": {},
   "outputs": [],
   "source": []
  },
  {
   "cell_type": "markdown",
   "metadata": {},
   "source": [
    "## Step 1: Read MURAL data from project asset\n",
    "\n",
    "### 1.1 Get project asset file details\n",
    "\n",
    "In the [Read data from MURAL](https://github.com/spackows/MURAL-API-Samples/blob/main/notebooks/Discovery_01-Read-data-from-MURAL.ipynb) notebook, we saved mural data in a JSON file as a project asset.\n",
    "\n",
    "To import the saved data into this notebook, click on the empty cell below and then perform these steps:\n",
    "1. Open the data panel by clicking on the **Find and Add Data** icon ( <img style=\"margin: 0px; padding: 0px; display: inline; height: 25px;\" src=\"https://github.com/spackows/CASCON-2019_NLP-workshops/raw/master/images/find-add-data-icon.png\"/> )\n",
    "2. Under the file named `documents_arr.json` click **Insert to code**\n",
    "3. Select \"Credentials\"\n",
    "\n",
    "Code will be automatically added to the cell to define a dictionary, called something like: \"metadata_1\".\n",
    "\n",
    "Run the cell to define that dictionary object."
   ]
  },
  {
   "cell_type": "code",
   "execution_count": null,
   "metadata": {},
   "outputs": [],
   "source": []
  },
  {
   "cell_type": "markdown",
   "metadata": {},
   "source": [
    "### 1.2 Copy file from project assets to notebook working directory\n",
    "\n",
    "Run the next cell to define a helper routine that copies that JSON file from the project Cloud Object storage to the notebook working directory.\n",
    "\n",
    "Then call the routine in the cell that comes after."
   ]
  },
  {
   "cell_type": "code",
   "execution_count": null,
   "metadata": {},
   "outputs": [],
   "source": [
    "from ibm_botocore.client import Config\n",
    "import ibm_boto3\n",
    "\n",
    "def copyToNotebookDir( credentials ):\n",
    "    cos = ibm_boto3.client(\n",
    "        service_name='s3',\n",
    "        ibm_api_key_id=credentials['IBM_API_KEY_ID'],\n",
    "        ibm_service_instance_id=credentials['IAM_SERVICE_ID'],\n",
    "        ibm_auth_endpoint=credentials['IBM_AUTH_ENDPOINT'],\n",
    "        config=Config(signature_version='oauth'),\n",
    "        endpoint_url=credentials['ENDPOINT'])\n",
    "    cos.download_file(Bucket=credentials['BUCKET'],Key=credentials['FILE'],Filename=credentials['FILE'])\n",
    "    print( \"Done: '\" + credentials['FILE'] + \"'\" )"
   ]
  },
  {
   "cell_type": "code",
   "execution_count": null,
   "metadata": {},
   "outputs": [],
   "source": [
    "copyToNotebookDir( metadata_1 )"
   ]
  },
  {
   "cell_type": "markdown",
   "metadata": {},
   "source": [
    "### 1.3. Read JSON file\n",
    "\n",
    "Read the JSON data from the file in the notebook working directory to a structure in memory, `g_documents_arr`."
   ]
  },
  {
   "cell_type": "code",
   "execution_count": null,
   "metadata": {},
   "outputs": [],
   "source": [
    "import json\n",
    "\n",
    "with open( \"documents_arr.json\" ) as f:\n",
    "    g_documents_arr = json.load(f)\n",
    "\n",
    "print( json.dumps( g_documents_arr, indent=3 ) )"
   ]
  },
  {
   "cell_type": "code",
   "execution_count": null,
   "metadata": {},
   "outputs": [],
   "source": []
  },
  {
   "cell_type": "markdown",
   "metadata": {},
   "source": [
    "## Step 2: Create local documents (files in working directory)\n",
    "\n",
    "Run the following cell to create one file in the notebook working directory for each mural."
   ]
  },
  {
   "cell_type": "code",
   "execution_count": null,
   "metadata": {},
   "outputs": [],
   "source": [
    "for document_json in g_documents_arr:\n",
    "    file_name = document_json[\"id\"] + \".json\"\n",
    "    with open( file_name, \"w\" ) as f:\n",
    "        f.write( json.dumps( document_json, indent=3 ) )\n",
    "\n",
    "!ls"
   ]
  },
  {
   "cell_type": "code",
   "execution_count": null,
   "metadata": {},
   "outputs": [],
   "source": []
  },
  {
   "cell_type": "markdown",
   "metadata": {},
   "source": [
    "## Step 3: Authenticate with Watson Discovery\n",
    "\n",
    "### 3.1 Create a service instance\n",
    "\n",
    "Create an instance of the IBM Watson Discovery service.  \n",
    "\n",
    "See: [IBM Watson Discovery in the IBM Cloud catalog](https://cloud.ibm.com/catalog/services/watson-discovery)\n",
    "\n",
    "\n",
    "### 3.2 Get the API key and URL for your service instance\n",
    "\n",
    "From the \"manage\" page of your Discovery service instance in IBM Cloud, copy the API key and URL into the cell below."
   ]
  },
  {
   "cell_type": "code",
   "execution_count": null,
   "metadata": {},
   "outputs": [],
   "source": [
    "g_discovery_apikey = \"\"\n",
    "g_discovery_url = \"\""
   ]
  },
  {
   "cell_type": "markdown",
   "metadata": {},
   "source": [
    "### 3.3 Install `ibm_watson` library\n",
    "\n",
    "See: [IBM Watson Discovery v2 API](https://cloud.ibm.com/apidocs/discovery-data?code=python)"
   ]
  },
  {
   "cell_type": "code",
   "execution_count": null,
   "metadata": {},
   "outputs": [],
   "source": [
    "!pip install ibm_watson"
   ]
  },
  {
   "cell_type": "markdown",
   "metadata": {},
   "source": [
    "### 3.4 Authenticate\n",
    "\n",
    "See: [Discovery authentication for IBM Cloud](https://cloud.ibm.com/apidocs/discovery-data?code=python#authentication-cloud)"
   ]
  },
  {
   "cell_type": "code",
   "execution_count": null,
   "metadata": {},
   "outputs": [],
   "source": [
    "from ibm_watson import DiscoveryV2\n",
    "from ibm_cloud_sdk_core.authenticators import IAMAuthenticator\n",
    "\n",
    "authenticator = IAMAuthenticator( g_discovery_apikey )\n",
    "g_discovery = DiscoveryV2( version= \"2020-08-30\", authenticator=authenticator )\n",
    "\n",
    "g_discovery.set_service_url( g_discovery_url )"
   ]
  },
  {
   "cell_type": "code",
   "execution_count": null,
   "metadata": {},
   "outputs": [],
   "source": []
  },
  {
   "cell_type": "markdown",
   "metadata": {},
   "source": [
    "## Step 4: Create a Project in Discovery\n",
    "\n",
    "In Discovery, you organize your work in \"Projects\"."
   ]
  },
  {
   "cell_type": "code",
   "execution_count": null,
   "metadata": {},
   "outputs": [],
   "source": [
    "def createDiscoveryProject( project_name ):\n",
    "    # https://cloud.ibm.com/apidocs/discovery-data?code=python#createproject\n",
    "    response_json = g_discovery.create_project( name=project_name, type=\"document_retrieval\" ).get_result()\n",
    "    print( json.dumps( response_json, indent=2 ) )\n",
    "    return response_json[\"project_id\"]"
   ]
  },
  {
   "cell_type": "code",
   "execution_count": null,
   "metadata": {},
   "outputs": [],
   "source": [
    "project_name = \"MURAL Search Project\"\n",
    "g_project_id = createDiscoveryProject( project_name )"
   ]
  },
  {
   "cell_type": "code",
   "execution_count": null,
   "metadata": {},
   "outputs": [],
   "source": []
  },
  {
   "cell_type": "markdown",
   "metadata": {},
   "source": [
    "## Step 5: Create a Collection in Discovery\n",
    "\n",
    "In Discovery, you assemble documents to search in \"Collections\"."
   ]
  },
  {
   "cell_type": "code",
   "execution_count": null,
   "metadata": {},
   "outputs": [],
   "source": [
    "def createDiscoveryCollection( project_id, collection_name ):\n",
    "    # https://cloud.ibm.com/apidocs/discovery-data?code=python#createcollection\n",
    "    response_json = discovery.create_collection( project_id=project_id, name=collection_name, language=\"en\" ).get_result()\n",
    "    print( json.dumps( response_json, indent=2 ) )\n",
    "    return response_json[\"collection_id\"]"
   ]
  },
  {
   "cell_type": "code",
   "execution_count": null,
   "metadata": {},
   "outputs": [],
   "source": [
    "collection_name = \"MURAL Search Collection\"\n",
    "g_collection_id = createDiscoveryCollection( g_project_id, collection_name )"
   ]
  },
  {
   "cell_type": "code",
   "execution_count": null,
   "metadata": {},
   "outputs": [],
   "source": []
  },
  {
   "cell_type": "markdown",
   "metadata": {},
   "source": [
    "## Step 6: Upload documents to Collection"
   ]
  },
  {
   "cell_type": "code",
   "execution_count": null,
   "metadata": {},
   "outputs": [],
   "source": [
    "def addMuralToDiscovery( file_name, project_id, collection_id ):\n",
    "    # https://cloud.ibm.com/apidocs/discovery-data?code=python#adddocument\n",
    "    with open( file_name, \"rb\" ) as f:\n",
    "        response_json = discovery.add_document( project_id=project_id, \n",
    "                                                collection_id=collection_id, \n",
    "                                                file=f, \n",
    "                                                filename=file_name, \n",
    "                                                file_content_type=\"application/json\" ).get_result()\n",
    "        print( \"\\n\\n\" + file_name + \":\\n\" + json.dumps( response_json, indent=2 ) )\n",
    "        return response_json[\"document_id\"]"
   ]
  },
  {
   "cell_type": "code",
   "execution_count": null,
   "metadata": {},
   "outputs": [],
   "source": [
    "for document_json in g_documents_arr:\n",
    "    file_name = document_json[\"id\"] + \".json\"\n",
    "    addMuralToDiscovery( file_name, g_project_id, g_collection_id )"
   ]
  },
  {
   "cell_type": "code",
   "execution_count": null,
   "metadata": {},
   "outputs": [],
   "source": []
  },
  {
   "cell_type": "code",
   "execution_count": null,
   "metadata": {},
   "outputs": [],
   "source": []
  }
 ],
 "metadata": {
  "kernelspec": {
   "display_name": "Python 3.10",
   "language": "python",
   "name": "python3"
  },
  "language_info": {
   "codemirror_mode": {
    "name": "ipython",
    "version": 3
   },
   "file_extension": ".py",
   "mimetype": "text/x-python",
   "name": "python",
   "nbconvert_exporter": "python",
   "pygments_lexer": "ipython3",
   "version": "3.10.6"
  }
 },
 "nbformat": 4,
 "nbformat_minor": 1
}
